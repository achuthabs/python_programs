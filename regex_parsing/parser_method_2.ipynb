{
 "cells": [
  {
   "cell_type": "code",
   "execution_count": 4,
   "metadata": {},
   "outputs": [
    {
     "name": "stdout",
     "output_type": "stream",
     "text": [
      "Start tag: html\n",
      "Start tag: head\n",
      "Start tag: title\n",
      "Data     : HTML Parser - I\n",
      "End tag  : title\n",
      "End tag  : head\n",
      "Start tag: body\n",
      "     attr: ('data-modal-target', None)\n",
      "     attr: ('class', '1')\n",
      "Start tag: h1\n",
      "Data     : HackerRank\n",
      "End tag  : h1\n",
      "Start tag: br\n",
      "End tag  : br\n",
      "End tag  : body\n",
      "End tag  : html\n"
     ]
    }
   ],
   "source": [
    "from html.parser import HTMLParser\n",
    "from html.entities import name2codepoint\n",
    "\n",
    "class MyHTMLParser(HTMLParser):\n",
    "    def handle_starttag(self, tag, attrs):\n",
    "        print(\"Start tag:\", tag)\n",
    "        for attr in attrs:\n",
    "            print(\"     attr:\", attr)\n",
    "    def handle_endtag(self, tag):\n",
    "        print(\"End tag  :\", tag)\n",
    "    def handle_data(self, data):\n",
    "        print(\"Data     :\", data)\n",
    "    def handle_comment(self, data):\n",
    "        print(\"Comment  :\", data)\n",
    "    def handle_entityref(self, name):\n",
    "        c = chr(name2codepoint[name])\n",
    "        print(\"Named ent:\", c)\n",
    "    def handle_charref(self, name):\n",
    "        if name.startswith('x'):\n",
    "            c = chr(int(name[1:], 16))\n",
    "        else:\n",
    "            c = chr(int(name))\n",
    "        print(\"Num ent  :\", c)\n",
    "    def handle_decl(self, data):\n",
    "        print(\"Decl     :\", data)\n",
    "\n",
    "parser = MyHTMLParser()\n",
    "parser.feed(\"<html><head><title>HTML Parser - I</title></head>\"\n",
    "            +\"<body data-modal-target class='1'><h1>HackerRank</h1><br /></body></html>\")"
   ]
  },
  {
   "cell_type": "code",
   "execution_count": 6,
   "metadata": {},
   "outputs": [
    {
     "name": "stdout",
     "output_type": "stream",
     "text": [
      "python\n"
     ]
    }
   ],
   "source": [
    "from html.parser import HTMLParser\n",
    "\n",
    "# create a subclass and override the handler methods\n",
    "class MyHTMLParser(HTMLParser):\n",
    "    def handle_starttag(self, tag, attrs):\n",
    "        di=dict()\n",
    "        print(\"Start  :\", tag)\n",
    "        for key, value in attrs:\n",
    "            di.setdefault(key, []).append(value)\n",
    "            print(\"->\", key, \">\", value)\n",
    "    def handle_endtag(self, tag):\n",
    "        print(\"End  :\", tag)\n",
    "    def handle_startendtag(self, tag, attrs):\n",
    "        print(\"Empty:\", tag)\n",
    "\n",
    "# instantiate the parser and fed it some HTML\n",
    "tag = []\n",
    "lst = []\n",
    "for _ in range(int(input())):\n",
    "    tag.append(input().split())\n",
    "parser = MyHTMLParser()\n",
    "for i in tag:\n",
    "    lst.append(' '.join(i))\n",
    "res_dct = {k: v for v, k in enumerate(lst)}\n",
    "for key, value in res_dct.items():\n",
    "    parser.feed('\"'+list(res_dct.keys())[list(res_dct.values()).index(value)]+'\"')"
   ]
  },
  {
   "cell_type": "code",
   "execution_count": null,
   "metadata": {},
   "outputs": [],
   "source": []
  }
 ],
 "metadata": {
  "kernelspec": {
   "display_name": "Python 3",
   "language": "python",
   "name": "python3"
  },
  "language_info": {
   "codemirror_mode": {
    "name": "ipython",
    "version": 3
   },
   "file_extension": ".py",
   "mimetype": "text/x-python",
   "name": "python",
   "nbconvert_exporter": "python",
   "pygments_lexer": "ipython3",
   "version": "3.8.3rc1"
  }
 },
 "nbformat": 4,
 "nbformat_minor": 4
}
