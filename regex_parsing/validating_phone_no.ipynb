{
 "cells": [
  {
   "cell_type": "code",
   "execution_count": 8,
   "metadata": {},
   "outputs": [
    {
     "name": "stdin",
     "output_type": "stream",
     "text": [
      " 1\n",
      " 4123456789123456\n"
     ]
    },
    {
     "name": "stdout",
     "output_type": "stream",
     "text": [
      "Valid\n"
     ]
    }
   ],
   "source": [
    "import re\n",
    "\n",
    "match = re.compile(r\"^(?!.*(\\d)(-?\\1){3})[456]\\d{3}(?:-?\\d{4}){3}$\")\n",
    "for _ in range(int(input().strip())):\n",
    "    print(\"Valid\" if match.search(input().strip()) else \"Invalid\")"
   ]
  },
  {
   "cell_type": "code",
   "execution_count": null,
   "metadata": {},
   "outputs": [],
   "source": [
    "# Python3 program to check if \n",
    "# given mobile number is valid \n",
    "import re \n",
    "\n",
    "def isValid(s): \n",
    "\t\n",
    "\t# 1) Begins with 0 or 91 \n",
    "\t# 2) Then contains 7 or 8 or 9. \n",
    "\t# 3) Then contains 9 digits \n",
    "\tPattern = re.compile(\"(0/91)?[7-9][0-9]{9}\") \n",
    "\treturn Pattern.match(s) \n",
    "\n",
    "# Driver Code \n",
    "s = \"919538933001\"\n",
    "if (isValid(s)): \n",
    "\tprint (\"Valid Number\")\t \n",
    "else : \n",
    "\tprint (\"Invalid Number\") \n",
    "\n",
    "\n",
    "# This code is contributed by rishabh_jain \n"
   ]
  },
  {
   "cell_type": "code",
   "execution_count": 13,
   "metadata": {},
   "outputs": [
    {
     "name": "stdout",
     "output_type": "stream",
     "text": [
      "re.compile('^[89]\\\\d{9}$$')\n"
     ]
    },
    {
     "name": "stdin",
     "output_type": "stream",
     "text": [
      " 1\n",
      " 12345678910\n"
     ]
    },
    {
     "name": "stdout",
     "output_type": "stream",
     "text": [
      "NO\n"
     ]
    }
   ],
   "source": [
    "import re\n",
    "\n",
    "match = re.compile(r\"^[89]\\d{9}$$\")\n",
    "for _ in range(int(input().strip())):\n",
    "    print(\"YES\" if match.search(input().strip()) else \"NO\")"
   ]
  },
  {
   "cell_type": "code",
   "execution_count": null,
   "metadata": {},
   "outputs": [],
   "source": []
  }
 ],
 "metadata": {
  "kernelspec": {
   "display_name": "Python 3",
   "language": "python",
   "name": "python3"
  },
  "language_info": {
   "codemirror_mode": {
    "name": "ipython",
    "version": 3
   },
   "file_extension": ".py",
   "mimetype": "text/x-python",
   "name": "python",
   "nbconvert_exporter": "python",
   "pygments_lexer": "ipython3",
   "version": "3.8.3rc1"
  }
 },
 "nbformat": 4,
 "nbformat_minor": 4
}
