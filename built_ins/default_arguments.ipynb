{
 "cells": [
  {
   "cell_type": "markdown",
   "metadata": {},
   "source": [
    "Python supports a useful concept of default argument values. For each keyword argument of a function, we can assign a default value which is going to be used as the value of said argument if the function is called without it. For example, consider the following increment function:"
   ]
  },
  {
   "cell_type": "code",
   "execution_count": 1,
   "metadata": {},
   "outputs": [],
   "source": [
    "def increment_by(n, increment=1):\n",
    "    return n + increment"
   ]
  },
  {
   "cell_type": "code",
   "execution_count": 2,
   "metadata": {},
   "outputs": [
    {
     "data": {
      "text/plain": [
       "7"
      ]
     },
     "execution_count": 2,
     "metadata": {},
     "output_type": "execute_result"
    }
   ],
   "source": [
    "increment_by(5, 2)"
   ]
  },
  {
   "cell_type": "code",
   "execution_count": 3,
   "metadata": {},
   "outputs": [
    {
     "data": {
      "text/plain": [
       "5"
      ]
     },
     "execution_count": 3,
     "metadata": {},
     "output_type": "execute_result"
    }
   ],
   "source": [
    "increment_by(4)"
   ]
  },
  {
   "cell_type": "markdown",
   "metadata": {},
   "source": [
    "Method 1:"
   ]
  },
  {
   "cell_type": "code",
   "execution_count": null,
   "metadata": {},
   "outputs": [],
   "source": [
    "class EvenStream(object):\n",
    "    def __init__(self):\n",
    "        self.current = 0\n",
    "\n",
    "    def get_next(self):\n",
    "        to_return = self.current\n",
    "        self.current += 2\n",
    "        return to_return\n",
    "\n",
    "class OddStream(object):\n",
    "    def __init__(self):\n",
    "        self.current = 1\n",
    "\n",
    "    def get_next(self):\n",
    "        to_return = self.current\n",
    "        self.current += 2\n",
    "        return to_return\n",
    "\n",
    "def print_from_stream(n, stream=EvenStream()):\n",
    "    stream.__init__()\n",
    "    for _ in range(n):            \n",
    "        print(stream.get_next())\n",
    "\n",
    "queries = int(input())\n",
    "for _ in range(queries):\n",
    "    stream_name, n = input().split()\n",
    "    n = int(n)\n",
    "    if stream_name == \"even\":\n",
    "        print_from_stream(n)\n",
    "    else:\n",
    "        print_from_stream(n, OddStream())\n"
   ]
  },
  {
   "cell_type": "markdown",
   "metadata": {},
   "source": [
    "Method 2"
   ]
  },
  {
   "cell_type": "code",
   "execution_count": null,
   "metadata": {},
   "outputs": [],
   "source": [
    "class EvenStream(object):\n",
    "    def __init__(self):\n",
    "        self.current = 0\n",
    "\n",
    "    def get_next(self):\n",
    "        to_return = self.current\n",
    "        self.current += 2\n",
    "        return to_return\n",
    "\n",
    "class OddStream(object):\n",
    "    def __init__(self):\n",
    "        self.current = 1\n",
    "\n",
    "    def get_next(self):\n",
    "        to_return = self.current\n",
    "        self.current += 2\n",
    "        return to_return\n",
    "\n",
    "def print_from_stream(n, stream=None):    \n",
    "    if stream is None:\n",
    "        stream = EvenStream()\n",
    "    for _ in range(n):            \n",
    "        print(stream.get_next())\n",
    "\n",
    "\n",
    "queries = int(input())\n",
    "for _ in range(queries):\n",
    "    stream_name, n = input().split()\n",
    "    n = int(n)\n",
    "    if stream_name == \"even\":\n",
    "        print_from_stream(n)\n",
    "    else:\n",
    "        print_from_stream(n, OddStream())"
   ]
  }
 ],
 "metadata": {
  "kernelspec": {
   "display_name": "Python 3",
   "language": "python",
   "name": "python3"
  },
  "language_info": {
   "codemirror_mode": {
    "name": "ipython",
    "version": 3
   },
   "file_extension": ".py",
   "mimetype": "text/x-python",
   "name": "python",
   "nbconvert_exporter": "python",
   "pygments_lexer": "ipython3",
   "version": "3.8.3rc1"
  }
 },
 "nbformat": 4,
 "nbformat_minor": 4
}
