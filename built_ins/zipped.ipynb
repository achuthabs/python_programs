{
 "cells": [
  {
   "cell_type": "markdown",
   "metadata": {},
   "source": [
    "zip([iterable, ...])\n",
    "\n",
    "This function returns a list of tuples. The th tuple contains the th element from each of the argument sequences or iterables.\n",
    "\n",
    "If the argument sequences are of unequal lengths, then the returned list is truncated to the length of the shortest argument sequence."
   ]
  },
  {
   "cell_type": "markdown",
   "metadata": {},
   "source": [
    ">>> print zip([1,2,3,4,5,6],'Hacker')\n",
    "[(1, 'H'), (2, 'a'), (3, 'c'), (4, 'k'), (5, 'e'), (6, 'r')]\n",
    ">>> \n",
    ">>> print zip([1,2,3,4,5,6],[0,9,8,7,6,5,4,3,2,1])\n",
    "[(1, 0), (2, 9), (3, 8), (4, 7), (5, 6), (6, 5)]\n",
    ">>> \n",
    ">>> A = [1,2,3]\n",
    ">>> B = [6,5,4]\n",
    ">>> C = [7,8,9]\n",
    ">>> X = [A] + [B] + [C]\n",
    ">>> \n",
    ">>> print zip(*X)\n",
    "[(1, 6, 7), (2, 5, 8), (3, 4, 9)]"
   ]
  },
  {
   "cell_type": "code",
   "execution_count": 29,
   "metadata": {},
   "outputs": [
    {
     "name": "stdout",
     "output_type": "stream",
     "text": [
      "[(89.0, 90.0, 91.0), (90.0, 91.0, 92.0), (78.0, 85.0, 83.0), (93.0, 88.0, 89.0), (80.0, 86.0, 90.5)]\n"
     ]
    }
   ],
   "source": [
    "n,m = map(int, input().split())\n",
    "lst = list()\n",
    "for i in range(m):\n",
    "    lst1 = list(map(float, input().split()))\n",
    "    lst.append(lst1)\n",
    "for i in list(zip(*lst)):\n",
    "    x = sum(i)/m\n",
    "    print(\"%.1f\"%x)"
   ]
  },
  {
   "cell_type": "code",
   "execution_count": null,
   "metadata": {},
   "outputs": [],
   "source": []
  }
 ],
 "metadata": {
  "kernelspec": {
   "display_name": "Python 3",
   "language": "python",
   "name": "python3"
  },
  "language_info": {
   "codemirror_mode": {
    "name": "ipython",
    "version": 3
   },
   "file_extension": ".py",
   "mimetype": "text/x-python",
   "name": "python",
   "nbconvert_exporter": "python",
   "pygments_lexer": "ipython3",
   "version": "3.8.3rc1"
  }
 },
 "nbformat": 4,
 "nbformat_minor": 4
}
