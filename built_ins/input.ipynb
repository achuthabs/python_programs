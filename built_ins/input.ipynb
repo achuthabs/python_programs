{
 "cells": [
  {
   "cell_type": "markdown",
   "metadata": {},
   "source": [
    "This challenge is only forPython 2.\n",
    "\n",
    "input()\n",
    "In Python 2, the expression input() is equivalent to eval(raw _input(prompt))."
   ]
  },
  {
   "cell_type": "markdown",
   "metadata": {},
   "source": [
    ">>> input()  \n",
    "1+2\n",
    "3\n",
    ">>> company = 'HackerRank'\n",
    ">>> website = 'www.hackerrank.com'\n",
    ">>> input()\n",
    "'The company name: '+company+' and website: '+website\n",
    "'The company name: HackerRank and website: www.hackerrank.com'"
   ]
  },
  {
   "cell_type": "code",
   "execution_count": 21,
   "metadata": {},
   "outputs": [
    {
     "name": "stdin",
     "output_type": "stream",
     "text": [
      " 2 15\n",
      " x**4 - x - 1\n"
     ]
    },
    {
     "name": "stdout",
     "output_type": "stream",
     "text": [
      "False\n"
     ]
    }
   ],
   "source": [
    "x,k = map(int , input().split())\n",
    "s = input()\n",
    "print(eval(s) == k)"
   ]
  },
  {
   "cell_type": "code",
   "execution_count": null,
   "metadata": {},
   "outputs": [],
   "source": []
  }
 ],
 "metadata": {
  "kernelspec": {
   "display_name": "Python 3",
   "language": "python",
   "name": "python3"
  },
  "language_info": {
   "codemirror_mode": {
    "name": "ipython",
    "version": 3
   },
   "file_extension": ".py",
   "mimetype": "text/x-python",
   "name": "python",
   "nbconvert_exporter": "python",
   "pygments_lexer": "ipython3",
   "version": "3.8.3rc1"
  }
 },
 "nbformat": 4,
 "nbformat_minor": 4
}
