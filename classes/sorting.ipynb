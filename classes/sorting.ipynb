{
 "cells": [
  {
   "cell_type": "code",
   "execution_count": 74,
   "metadata": {},
   "outputs": [
    {
     "name": "stdin",
     "output_type": "stream",
     "text": [
      " Sorting1234\n"
     ]
    },
    {
     "name": "stdout",
     "output_type": "stream",
     "text": [
      "ginortS1324\n"
     ]
    }
   ],
   "source": [
    "\n",
    "n = input()\n",
    "test_string = \"\"\n",
    "lst = []\n",
    "res = ''.join([i for i in n if not i.isdigit()])\n",
    "sortStr = ''.join(sorted(res, key=lambda x:(not x.islower(), x), reverse = False))\n",
    "for i in n:\n",
    "    if i.isdigit():\n",
    "        lst.append(i)\n",
    "for i in range(0, len(lst)): \n",
    "    lst[i] = int(lst[i])\n",
    "evenlist = [] \n",
    "oddlist = [] \n",
    "for i in lst:\n",
    "    if (i % 2 != 0): \n",
    "         oddlist.append(i) \n",
    "    else: \n",
    "         evenlist.append(i)\n",
    "evenlist.sort()\n",
    "oddlist.sort()\n",
    "for i in evenlist : \n",
    "    oddlist.append(i)\n",
    "s = [str(i) for i in oddlist]\n",
    "final = ''.join(s)\n",
    "print(sortStr+final)"
   ]
  },
  {
   "cell_type": "code",
   "execution_count": 72,
   "metadata": {},
   "outputs": [
    {
     "name": "stdout",
     "output_type": "stream",
     "text": [
      "[0, 2, 4, 6, 8]\n",
      "[1, 3, 5, 7, 9]\n"
     ]
    }
   ],
   "source": [
    "lst = [0,1,2,3,4,5,6,7,8,9]\n",
    "evenlist = [] \n",
    "oddlist = [] \n",
    "for i in lst:\n",
    "    if (i % 2 != 0): \n",
    "         oddlist.append(i) \n",
    "    else: \n",
    "         evenlist.append(i)\n",
    "print(evenlist)\n",
    "print(oddlist)"
   ]
  },
  {
   "cell_type": "code",
   "execution_count": null,
   "metadata": {},
   "outputs": [],
   "source": []
  }
 ],
 "metadata": {
  "kernelspec": {
   "display_name": "Python 3",
   "language": "python",
   "name": "python3"
  },
  "language_info": {
   "codemirror_mode": {
    "name": "ipython",
    "version": 3
   },
   "file_extension": ".py",
   "mimetype": "text/x-python",
   "name": "python",
   "nbconvert_exporter": "python",
   "pygments_lexer": "ipython3",
   "version": "3.8.3rc1"
  }
 },
 "nbformat": 4,
 "nbformat_minor": 4
}
