{
 "cells": [
  {
   "cell_type": "code",
   "execution_count": 49,
   "metadata": {},
   "outputs": [
    {
     "name": "stdin",
     "output_type": "stream",
     "text": [
      " 1qaz2wsx3edc4rfv5tgb6yhn7ujm8ik9ol0pQWERTYUIOPASDFGHJKLZXCVBNM\n"
     ]
    },
    {
     "name": "stdout",
     "output_type": "stream",
     "text": [
      "MNBVCXZLKJHGFDSAPOIUYTREWQplokimjunhybgtvfrcdexswzaq1357924680\n"
     ]
    }
   ],
   "source": [
    "\n",
    "n = input()\n",
    "test_string = \"\"\n",
    "lst = []\n",
    "res = ''.join([i for i in n if not i.isdigit()]) \n",
    "for i in res:\n",
    "    test_string = i + test_string\n",
    "for i in n:\n",
    "    if i.isdigit():\n",
    "        lst.append(i)\n",
    "for i in range(0, len(lst)): \n",
    "    lst[i] = int(lst[i])\n",
    "evenlist = [] \n",
    "oddlist = [] \n",
    "for i in lst:\n",
    "    if (i % 2 != 0): \n",
    "         oddlist.append(i) \n",
    "    else: \n",
    "         evenlist.append(i)\n",
    "for i in evenlist : \n",
    "    oddlist.append(i)\n",
    "s = [str(i) for i in oddlist]\n",
    "final = ''.join(s)\n",
    "print(test_string+final)"
   ]
  },
  {
   "cell_type": "code",
   "execution_count": 13,
   "metadata": {},
   "outputs": [
    {
     "name": "stdout",
     "output_type": "stream",
     "text": [
      "1 3 5 7 9 11 13 15 17 19 "
     ]
    }
   ],
   "source": [
    "# Python program to print odd Numbers in given range \n",
    "  \n",
    "start, end = 0, 19\n",
    "  \n",
    "# iterating each number in list \n",
    "for num in range(start, end + 1): \n",
    "      \n",
    "    # checking condition \n",
    "    if num % 2 != 0: \n",
    "        print(num, end = \" \") "
   ]
  },
  {
   "cell_type": "code",
   "execution_count": null,
   "metadata": {},
   "outputs": [],
   "source": []
  }
 ],
 "metadata": {
  "kernelspec": {
   "display_name": "Python 3",
   "language": "python",
   "name": "python3"
  },
  "language_info": {
   "codemirror_mode": {
    "name": "ipython",
    "version": 3
   },
   "file_extension": ".py",
   "mimetype": "text/x-python",
   "name": "python",
   "nbconvert_exporter": "python",
   "pygments_lexer": "ipython3",
   "version": "3.8.3rc1"
  }
 },
 "nbformat": 4,
 "nbformat_minor": 4
}
