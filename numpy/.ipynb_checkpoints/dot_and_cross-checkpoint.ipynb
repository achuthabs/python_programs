{
 "cells": [
  {
   "cell_type": "markdown",
   "metadata": {},
   "source": [
    "dot\n",
    "\n",
    "The dot tool returns the dot product of two arrays."
   ]
  },
  {
   "cell_type": "code",
   "execution_count": 9,
   "metadata": {},
   "outputs": [
    {
     "name": "stdout",
     "output_type": "stream",
     "text": [
      "11\n"
     ]
    }
   ],
   "source": [
    "import numpy\n",
    "\n",
    "A = numpy.array([ 1, 2 ])\n",
    "B = numpy.array([ 3, 4 ])\n",
    "\n",
    "print(numpy.dot(A, B))       #Output : 11"
   ]
  },
  {
   "cell_type": "markdown",
   "metadata": {},
   "source": [
    "cross\n",
    "\n",
    "The cross tool returns the cross product of two arrays."
   ]
  },
  {
   "cell_type": "code",
   "execution_count": 10,
   "metadata": {},
   "outputs": [
    {
     "name": "stdout",
     "output_type": "stream",
     "text": [
      "-2\n"
     ]
    }
   ],
   "source": [
    "import numpy\n",
    "\n",
    "A = numpy.array([ 1, 2 ])\n",
    "B = numpy.array([ 3, 4 ])\n",
    "\n",
    "print(numpy.cross(A, B))     #Output : -2"
   ]
  },
  {
   "cell_type": "code",
   "execution_count": 11,
   "metadata": {},
   "outputs": [
    {
     "name": "stdout",
     "output_type": "stream",
     "text": [
      "[[ 7 10]\n",
      " [15 22]]\n",
      "[[ 63 320  83]\n",
      " [ 77 484 102]\n",
      " [ 84 248 117]]\n"
     ]
    }
   ],
   "source": [
    "import numpy as np\n",
    "# two dimensional arrays\n",
    "m1 = np.array([[1,2],[3,4]])\n",
    "m2 = np.array([[1,2],[3,4]])\n",
    "m3 = np.dot(m1,m2) \n",
    "print(m3) \n",
    "\n",
    "# three dimensional arrays\n",
    "m1 = ([1, 6, 5],[3 ,4, 8],[2, 12, 3]) \n",
    "m2 = ([3, 4, 6],[5, 6, 7],[6,56, 7]) \n",
    "m3 = np.dot(m1,m2) \n",
    "print(m3)"
   ]
  },
  {
   "cell_type": "code",
   "execution_count": null,
   "metadata": {},
   "outputs": [],
   "source": [
    "import numpy\n",
    "n = int(input())\n",
    "a = [list(map(int, input().split())) for x in range(n)]\n",
    "b = [list(map(int, input().split())) for x in range(n)]\n",
    "print(numpy.dot(a, b))"
   ]
  }
 ],
 "metadata": {
  "kernelspec": {
   "display_name": "Python 3",
   "language": "python",
   "name": "python3"
  },
  "language_info": {
   "codemirror_mode": {
    "name": "ipython",
    "version": 3
   },
   "file_extension": ".py",
   "mimetype": "text/x-python",
   "name": "python",
   "nbconvert_exporter": "python",
   "pygments_lexer": "ipython3",
   "version": "3.8.3rc1"
  }
 },
 "nbformat": 4,
 "nbformat_minor": 4
}
