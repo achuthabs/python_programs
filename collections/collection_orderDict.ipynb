{
 "cells": [
  {
   "cell_type": "markdown",
   "metadata": {},
   "source": [
    "collections.OrderedDict\n",
    "An OrderedDict is a dictionary that remembers the order of the keys that were inserted first. If a new entry overwrites an existing entry, the original insertion position is left unchanged.\n",
    "\n",
    "Example\n",
    "\n",
    "Code\n",
    "\n",
    "from collections import OrderedDict\n",
    "\n",
    "ordinary_dictionary = {}\n",
    "ordinary_dictionary['a'] = 1\n",
    "ordinary_dictionary['b'] = 2\n",
    "ordinary_dictionary['c'] = 3\n",
    "ordinary_dictionary['d'] = 4\n",
    "ordinary_dictionary['e'] = 5\n",
    "\n",
    "print ordinary_dictionary\n",
    "{'a': 1, 'c': 3, 'b': 2, 'e': 5, 'd': 4}\n",
    "\n",
    "ordered_dictionary = OrderedDict()\n",
    "ordered_dictionary['a'] = 1\n",
    "ordered_dictionary['b'] = 2\n",
    "ordered_dictionary['c'] = 3\n",
    "ordered_dictionary['d'] = 4\n",
    "ordered_dictionary['e'] = 5\n",
    "\n",
    "print ordered_dictionary\n",
    "OrderedDict([('a', 1), ('b', 2), ('c', 3), ('d', 4), ('e', 5)])"
   ]
  },
  {
   "cell_type": "code",
   "execution_count": 4,
   "metadata": {},
   "outputs": [
    {
     "name": "stdout",
     "output_type": "stream",
     "text": [
      "{'a': 1, 'b': 5, 'c': 3, 'd': 4, 'e': 5}\n"
     ]
    }
   ],
   "source": [
    "from collections import OrderedDict\n",
    "\n",
    "ordinary_dictionary = {}\n",
    "ordinary_dictionary['a'] = 1\n",
    "ordinary_dictionary['b'] = 2\n",
    "ordinary_dictionary['c'] = 3\n",
    "ordinary_dictionary['d'] = 4\n",
    "ordinary_dictionary['e'] = 5\n",
    "ordinary_dictionary['b'] = 5\n",
    "\n",
    "print(ordinary_dictionary)"
   ]
  },
  {
   "cell_type": "code",
   "execution_count": 5,
   "metadata": {},
   "outputs": [
    {
     "name": "stdout",
     "output_type": "stream",
     "text": [
      "a b c d e\n"
     ]
    }
   ],
   "source": [
    "from collections import OrderedDict\n",
    "\n",
    "ordinary_dictionary = OrderedDict()\n",
    "ordinary_dictionary['a'] = 1\n",
    "ordinary_dictionary['b'] = 2\n",
    "ordinary_dictionary['c'] = 3\n",
    "ordinary_dictionary['d'] = 4\n",
    "ordinary_dictionary['e'] = 5\n",
    "ordinary_dictionary['b'] = 5\n",
    "\n",
    "print(\" \".join( map(str,ordinary_dictionary.keys()) ))"
   ]
  },
  {
   "cell_type": "code",
   "execution_count": 23,
   "metadata": {},
   "outputs": [
    {
     "name": "stdin",
     "output_type": "stream",
     "text": [
      " 2\n",
      " BANANA FRIES 12\n",
      " POTATO CHIPS 30\n"
     ]
    },
    {
     "name": "stdout",
     "output_type": "stream",
     "text": [
      "BANANA FRIES 12\n",
      "POTATO CHIPS 30\n"
     ]
    }
   ],
   "source": [
    "from collections import OrderedDict, defaultdict\n",
    "\n",
    "n = int(input())\n",
    "m = defaultdict(list)\n",
    "manager_dictionary = OrderedDict()\n",
    "for i in range(n):\n",
    "    k = input().split()\n",
    "    k[0] = ' '.join(k[0:len(k)-1])\n",
    "    k[1] = int(k[len(k)-1])\n",
    "    k = k[0:2]\n",
    "    m[k[0]].append(k[1])\n",
    "    manager_dictionary[k[0]] = i\n",
    "\n",
    "for i in manager_dictionary:\n",
    "    print(i,sum(m[i]))"
   ]
  },
  {
   "cell_type": "code",
   "execution_count": 27,
   "metadata": {},
   "outputs": [
    {
     "name": "stdin",
     "output_type": "stream",
     "text": [
      " 2\n",
      " BANANA FRIES 12\n"
     ]
    },
    {
     "name": "stdout",
     "output_type": "stream",
     "text": [
      "12\n",
      "12\n"
     ]
    },
    {
     "name": "stdin",
     "output_type": "stream",
     "text": [
      " BANANA FRIES 12\n"
     ]
    },
    {
     "name": "stdout",
     "output_type": "stream",
     "text": [
      "24\n",
      "12\n",
      "BANANA FRIES 24\n"
     ]
    }
   ],
   "source": [
    "from collections import OrderedDict\n",
    "d = OrderedDict()\n",
    "for _ in range(int(input())):\n",
    "    item, space, quantity = input().rpartition(' ')\n",
    "    d[item] = d.get(item, 0) + int(quantity)\n",
    "    print(d.get(item, 0))\n",
    "    print(quantity)\n",
    "for item, quantity in d.items():\n",
    "    print(item, quantity)"
   ]
  },
  {
   "cell_type": "code",
   "execution_count": null,
   "metadata": {},
   "outputs": [],
   "source": []
  }
 ],
 "metadata": {
  "kernelspec": {
   "display_name": "Python 3",
   "language": "python",
   "name": "python3"
  },
  "language_info": {
   "codemirror_mode": {
    "name": "ipython",
    "version": 3
   },
   "file_extension": ".py",
   "mimetype": "text/x-python",
   "name": "python",
   "nbconvert_exporter": "python",
   "pygments_lexer": "ipython3",
   "version": "3.8.3rc1"
  }
 },
 "nbformat": 4,
 "nbformat_minor": 4
}
