{
 "cells": [
  {
   "cell_type": "code",
   "execution_count": 30,
   "metadata": {},
   "outputs": [
    {
     "name": "stdin",
     "output_type": "stream",
     "text": [
      " 4\n",
      " bcdef\n",
      " abcdefg\n",
      " bcde\n",
      " bcdef\n"
     ]
    },
    {
     "name": "stdout",
     "output_type": "stream",
     "text": [
      "3\n",
      "2 1 1\n"
     ]
    }
   ],
   "source": [
    "from collections import defaultdict\n",
    "\n",
    "n = int(input())\n",
    "d = defaultdict(list)\n",
    "a = []\n",
    "for i in range(n):\n",
    "    d[input()].append(i+1)\n",
    "res = list(d.values())\n",
    "length_dict = [sum(len(val) for val in d.items())]\n",
    "print(len(d))\n",
    "for i in res:\n",
    "    a.append(len(i))\n",
    "print(\" \".join( map(str,a)))"
   ]
  }
 ],
 "metadata": {
  "kernelspec": {
   "display_name": "Python 3",
   "language": "python",
   "name": "python3"
  },
  "language_info": {
   "codemirror_mode": {
    "name": "ipython",
    "version": 3
   },
   "file_extension": ".py",
   "mimetype": "text/x-python",
   "name": "python",
   "nbconvert_exporter": "python",
   "pygments_lexer": "ipython3",
   "version": "3.8.3rc1"
  }
 },
 "nbformat": 4,
 "nbformat_minor": 4
}
