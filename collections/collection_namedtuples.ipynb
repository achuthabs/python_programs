{
 "cells": [
  {
   "cell_type": "markdown",
   "metadata": {},
   "source": [
    "collections.namedtuple()\n",
    "Basically, namedtuples are easy to create, lightweight object types.\n",
    "They turn tuples into convenient containers for simple tasks.\n",
    "With namedtuples, you don’t have to use integer indices for accessing members of a tuple.\n",
    "\n",
    "Example\n",
    "\n",
    "Code 01\n",
    "\n",
    " from collections import namedtuple\n",
    " Point = namedtuple('Point','x,y')\n",
    " pt1 = Point(1,2)\n",
    " pt2 = Point(3,4)\n",
    " dot_product = ( pt1.x * pt2.x ) +( pt1.y * pt2.y )\n",
    " print dot_product\n",
    "11\n",
    "Code 02\n",
    "\n",
    " from collections import namedtuple\n",
    " Car = namedtuple('Car','Price Mileage Colour Class')\n",
    " xyz = Car(Price = 100000, Mileage = 30, Colour = 'Cyan', Class = 'Y')\n",
    " print xyz\n",
    "Car(Price=100000, Mileage=30, Colour='Cyan', Class='Y')\n",
    " print xyz.Class\n",
    "Y"
   ]
  },
  {
   "cell_type": "code",
   "execution_count": 4,
   "metadata": {},
   "outputs": [
    {
     "name": "stdout",
     "output_type": "stream",
     "text": [
      "Point(x=1, y=2)\n",
      "11\n"
     ]
    }
   ],
   "source": [
    "from collections import namedtuple\n",
    "Point = namedtuple('Point','x,y')\n",
    "print(Point(1,2))\n",
    "pt1 = Point(1,2)\n",
    "pt2 = Point(3,4)\n",
    "dot_product = ( pt1.x * pt2.x ) +( pt1.y * pt2.y )\n",
    "print(dot_product)"
   ]
  },
  {
   "cell_type": "code",
   "execution_count": 34,
   "metadata": {},
   "outputs": [
    {
     "name": "stdin",
     "output_type": "stream",
     "text": [
      " 5\n",
      " ID         MARKS      NAME       CLASS \n",
      " 1          97         Raymond    7 \n",
      " 2          50         Steven     4 \n",
      " 3          91         Adrian     9\n",
      " 4          72         Stewart    5\n",
      " 5          80         Peter      6\n"
     ]
    },
    {
     "name": "stdout",
     "output_type": "stream",
     "text": [
      "78.00\n"
     ]
    }
   ],
   "source": [
    "from collections import namedtuple\n",
    "\n",
    "a = int(input())\n",
    "b = []\n",
    "line = namedtuple('line',input().split())\n",
    "for i in range(a):\n",
    "    integer_list = tuple(input().split())\n",
    "    b.append(int(line._make(integer_list).MARKS))\n",
    "c = (sum(b) / len(b))\n",
    "print('%.2f'%c)"
   ]
  },
  {
   "cell_type": "code",
   "execution_count": 23,
   "metadata": {},
   "outputs": [
    {
     "name": "stdin",
     "output_type": "stream",
     "text": [
      " 5\n",
      " ID         MARKS      NAME       CLASS \n",
      " 1          97         Raymond    7\\\n",
      " 2          50         Steven     4\n",
      " 3          91         Adrian     9\n",
      " 4          72         Stewart    5\n",
      " 5          80         Peter      6\n"
     ]
    },
    {
     "name": "stdout",
     "output_type": "stream",
     "text": [
      "78.0\n"
     ]
    }
   ],
   "source": [
    "from collections import namedtuple\n",
    "\n",
    "(n, categories) = (int(input()), input().split())\n",
    "Grade = namedtuple('Grade', categories)\n",
    "marks = [int(Grade._make(input().split()).MARKS) for _ in range(n)]\n",
    "print((sum(marks) / len(marks)))"
   ]
  },
  {
   "cell_type": "code",
   "execution_count": null,
   "metadata": {},
   "outputs": [],
   "source": []
  }
 ],
 "metadata": {
  "kernelspec": {
   "display_name": "Python 3",
   "language": "python",
   "name": "python3"
  },
  "language_info": {
   "codemirror_mode": {
    "name": "ipython",
    "version": 3
   },
   "file_extension": ".py",
   "mimetype": "text/x-python",
   "name": "python",
   "nbconvert_exporter": "python",
   "pygments_lexer": "ipython3",
   "version": "3.8.3rc1"
  }
 },
 "nbformat": 4,
 "nbformat_minor": 4
}
