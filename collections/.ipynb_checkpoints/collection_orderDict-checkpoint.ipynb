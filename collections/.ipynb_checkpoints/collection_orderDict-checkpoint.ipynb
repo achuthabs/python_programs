{
 "cells": [
  {
   "cell_type": "markdown",
   "metadata": {},
   "source": [
    "collections.OrderedDict\n",
    "An OrderedDict is a dictionary that remembers the order of the keys that were inserted first. If a new entry overwrites an existing entry, the original insertion position is left unchanged.\n",
    "\n",
    "Example\n",
    "\n",
    "Code\n",
    "\n",
    "from collections import OrderedDict\n",
    "\n",
    "ordinary_dictionary = {}\n",
    "ordinary_dictionary['a'] = 1\n",
    "ordinary_dictionary['b'] = 2\n",
    "ordinary_dictionary['c'] = 3\n",
    "ordinary_dictionary['d'] = 4\n",
    "ordinary_dictionary['e'] = 5\n",
    "\n",
    "print ordinary_dictionary\n",
    "{'a': 1, 'c': 3, 'b': 2, 'e': 5, 'd': 4}\n",
    "\n",
    "ordered_dictionary = OrderedDict()\n",
    "ordered_dictionary['a'] = 1\n",
    "ordered_dictionary['b'] = 2\n",
    "ordered_dictionary['c'] = 3\n",
    "ordered_dictionary['d'] = 4\n",
    "ordered_dictionary['e'] = 5\n",
    "\n",
    "print ordered_dictionary\n",
    "OrderedDict([('a', 1), ('b', 2), ('c', 3), ('d', 4), ('e', 5)])"
   ]
  },
  {
   "cell_type": "code",
   "execution_count": 4,
   "metadata": {},
   "outputs": [
    {
     "name": "stdout",
     "output_type": "stream",
     "text": [
      "{'a': 1, 'b': 5, 'c': 3, 'd': 4, 'e': 5}\n"
     ]
    }
   ],
   "source": [
    "from collections import OrderedDict\n",
    "\n",
    "ordinary_dictionary = {}\n",
    "ordinary_dictionary['a'] = 1\n",
    "ordinary_dictionary['b'] = 2\n",
    "ordinary_dictionary['c'] = 3\n",
    "ordinary_dictionary['d'] = 4\n",
    "ordinary_dictionary['e'] = 5\n",
    "ordinary_dictionary['b'] = 5\n",
    "\n",
    "print(ordinary_dictionary)"
   ]
  },
  {
   "cell_type": "code",
   "execution_count": 5,
   "metadata": {},
   "outputs": [
    {
     "name": "stdout",
     "output_type": "stream",
     "text": [
      "a b c d e\n"
     ]
    }
   ],
   "source": [
    "from collections import OrderedDict\n",
    "\n",
    "ordinary_dictionary = OrderedDict()\n",
    "ordinary_dictionary['a'] = 1\n",
    "ordinary_dictionary['b'] = 2\n",
    "ordinary_dictionary['c'] = 3\n",
    "ordinary_dictionary['d'] = 4\n",
    "ordinary_dictionary['e'] = 5\n",
    "ordinary_dictionary['b'] = 5\n",
    "\n",
    "print(\" \".join( map(str,ordinary_dictionary.keys()) ))"
   ]
  },
  {
   "cell_type": "code",
   "execution_count": null,
   "metadata": {},
   "outputs": [],
   "source": [
    "from collections import OrderedDict\n",
    "\n",
    "n = int(input())"
   ]
  }
 ],
 "metadata": {
  "kernelspec": {
   "display_name": "Python 3",
   "language": "python",
   "name": "python3"
  },
  "language_info": {
   "codemirror_mode": {
    "name": "ipython",
    "version": 3
   },
   "file_extension": ".py",
   "mimetype": "text/x-python",
   "name": "python",
   "nbconvert_exporter": "python",
   "pygments_lexer": "ipython3",
   "version": "3.8.3rc1"
  }
 },
 "nbformat": 4,
 "nbformat_minor": 4
}
