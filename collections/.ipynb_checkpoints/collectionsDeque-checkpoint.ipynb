{
 "cells": [
  {
   "cell_type": "markdown",
   "metadata": {},
   "source": [
    "collections.deque()\n",
    "A deque is a double-ended queue. It can be used to add or remove elements from both ends.\n",
    "\n",
    "Deques support thread safe, memory efficient appends and pops from either side of the deque with approximately the same  performance in either direction.\n",
    "\n",
    "Click on the link to learn more about deque() methods.\n",
    "Click on the link to learn more about various approaches to working with deques: Deque Recipes."
   ]
  },
  {
   "cell_type": "code",
   "execution_count": 2,
   "metadata": {},
   "outputs": [
    {
     "name": "stdout",
     "output_type": "stream",
     "text": [
      "deque([1])\n",
      "deque([2, 1])\n",
      "deque([])\n",
      "deque(['1'])\n",
      "deque(['4', '3', '2', '1'])\n",
      "deque(['4', '3', '2'])\n",
      "deque(['3', '2'])\n",
      "deque(['3', '2', '7', '8', '9', '6'])\n",
      "deque(['3', '7', '8', '9', '6'])\n",
      "deque(['6', '9', '8', '7', '3'])\n",
      "deque(['8', '7', '3', '6', '9'])\n"
     ]
    },
    {
     "data": {
      "text/plain": [
       "deque(['8', '7', '3', '6', '9'])"
      ]
     },
     "execution_count": 2,
     "metadata": {},
     "output_type": "execute_result"
    }
   ],
   "source": [
    "from collections import deque\n",
    "d = deque()\n",
    "d.append(1)\n",
    "print(d)\n",
    "deque([1])\n",
    "d.appendleft(2)\n",
    "print(d)\n",
    "deque([2, 1])\n",
    "d.clear()\n",
    "print(d)\n",
    "deque([])\n",
    "d.extend('1')\n",
    "print(d)\n",
    "deque(['1'])\n",
    "d.extendleft('234')\n",
    "print(d)\n",
    "deque(['4', '3', '2', '1'])\n",
    "d.count('1')\n",
    "1\n",
    "d.pop()\n",
    "'1'\n",
    "print(d)\n",
    "deque(['4', '3', '2'])\n",
    "d.popleft()\n",
    "'4'\n",
    "print(d)\n",
    "deque(['3', '2'])\n",
    "d.extend('7896')\n",
    "print(d)\n",
    "deque(['3', '2', '7', '8', '9', '6'])\n",
    "d.remove('2')\n",
    "print(d)\n",
    "deque(['3', '7', '8', '9', '6'])\n",
    "d.reverse()\n",
    "print(d)\n",
    "deque(['6', '9', '8', '7', '3'])\n",
    "d.rotate(3)\n",
    "print(d)\n",
    "deque(['8', '7', '3', '6', '9'])"
   ]
  },
  {
   "cell_type": "code",
   "execution_count": 6,
   "metadata": {},
   "outputs": [
    {
     "name": "stdin",
     "output_type": "stream",
     "text": [
      " 6\n",
      " append 1\n",
      " append 2\n",
      " append 3\n",
      " appendleft 4\n",
      " pop\n",
      " popleft\n"
     ]
    },
    {
     "name": "stdout",
     "output_type": "stream",
     "text": [
      "1 2\n"
     ]
    }
   ],
   "source": [
    "from collections import deque\n",
    "N = int(input())\n",
    "l = []\n",
    "d = deque()\n",
    "for i in range(N):\n",
    "    s = input().split()\n",
    "    cmd = s[0]\n",
    "    args = s[1:]\n",
    "    if cmd != \"print\":\n",
    "        cmd += \"(\"+\",\".join(args)+\")\"\n",
    "        eval(\"d.\"+cmd)\n",
    "    else:\n",
    "        print(d)\n",
    "print(\" \".join( map(str,d)))"
   ]
  },
  {
   "cell_type": "code",
   "execution_count": null,
   "metadata": {},
   "outputs": [],
   "source": []
  }
 ],
 "metadata": {
  "kernelspec": {
   "display_name": "Python 3",
   "language": "python",
   "name": "python3"
  },
  "language_info": {
   "codemirror_mode": {
    "name": "ipython",
    "version": 3
   },
   "file_extension": ".py",
   "mimetype": "text/x-python",
   "name": "python",
   "nbconvert_exporter": "python",
   "pygments_lexer": "ipython3",
   "version": "3.8.3rc1"
  }
 },
 "nbformat": 4,
 "nbformat_minor": 4
}
