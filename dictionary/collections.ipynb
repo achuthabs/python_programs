{
 "cells": [
  {
   "cell_type": "markdown",
   "metadata": {},
   "source": [
    "collections.Counter()\n",
    "A counter is a container that stores elements as dictionary keys, and their counts are stored as dictionary values."
   ]
  },
  {
   "cell_type": "code",
   "execution_count": 2,
   "metadata": {},
   "outputs": [
    {
     "name": "stdout",
     "output_type": "stream",
     "text": [
      "Counter({2: 4, 3: 4, 1: 3, 4: 2, 5: 1})\n"
     ]
    }
   ],
   "source": [
    "from collections import Counter\n",
    "\n",
    "myList = [1,1,2,3,4,5,3,2,3,4,2,1,2,3]\n",
    "print(Counter(myList))"
   ]
  },
  {
   "cell_type": "code",
   "execution_count": null,
   "metadata": {},
   "outputs": [],
   "source": [
    "from itertools import combinations\n",
    "\n",
    "a = int(input())\n",
    "b = list(input())\n",
    "c = int(input())\n",
    "new_lst = [string for string in b if string != \" \"]\n",
    "lst = \"\"\n",
    "\n",
    "for item in new_lst:\n",
    "    lst += item\n",
    "count = 0\n",
    "res = (list(combinations(lst, c)))\n",
    "# print(res)\n",
    "for x,y in enumerate(res):\n",
    "#     print(x,y)\n",
    "    try:\n",
    "#         if y[x] == 'a':\n",
    "        if(any('a' in i for i in y)):\n",
    "            count += 1\n",
    "    except:\n",
    "        count = 0\n",
    "# print(count)\n",
    "# print(len(res))\n",
    "result = (count/len(res))\n",
    "print(round(result, 4))"
   ]
  }
 ],
 "metadata": {
  "kernelspec": {
   "display_name": "Python 3",
   "language": "python",
   "name": "python3"
  },
  "language_info": {
   "codemirror_mode": {
    "name": "ipython",
    "version": 3
   },
   "file_extension": ".py",
   "mimetype": "text/x-python",
   "name": "python",
   "nbconvert_exporter": "python",
   "pygments_lexer": "ipython3",
   "version": "3.8.3rc1"
  }
 },
 "nbformat": 4,
 "nbformat_minor": 4
}
