{
 "cells": [
  {
   "cell_type": "markdown",
   "metadata": {},
   "source": [
    "We have seen the applications of union, intersection, difference and symmetric difference operations, but these operations do not make any changes or mutations to the set.\n",
    "\n",
    "We can use the following operations to create mutations to a set:\n",
    "\n",
    ".update() or |=\n",
    "Update the set by adding elements from an iterable/another set.\n",
    "\n",
    "H = set(\"Hacker\")\n",
    "R = set(\"Rank\")\n",
    "H.update(R)\n",
    "print H\n",
    "set(['a', 'c', 'e', 'H', 'k', 'n', 'r', 'R'])\n",
    ".intersection_update() or &=\n",
    "Update the set by keeping only the elements found in it and an iterable/another set.\n",
    "\n",
    "H = set(\"Hacker\")\n",
    "R = set(\"Rank\")\n",
    "H.intersection_update(R)\n",
    "print H\n",
    "set(['a', 'k'])\n",
    ".difference_update() or -=\n",
    "Update the set by removing elements found in an iterable/another set.\n",
    "\n",
    "H = set(\"Hacker\")\n",
    "R = set(\"Rank\")\n",
    "H.difference_update(R)\n",
    "print H\n",
    "set(['c', 'e', 'H', 'r'])\n",
    ".symmetric_difference_update() or ^=\n",
    "Update the set by only keeping the elements found in either set, but not in both.\n",
    "\n",
    "H = set(\"Hacker\")\n",
    "R = set(\"Rank\")\n",
    "H.symmetric_difference_update(R)\n",
    "print H\n",
    "set(['c', 'e', 'H', 'n', 'r', 'R'])"
   ]
  },
  {
   "cell_type": "code",
   "execution_count": 12,
   "metadata": {},
   "outputs": [
    {
     "name": "stdin",
     "output_type": "stream",
     "text": [
      " 16\n",
      " 1 2 3 4 5 6 7 8 9 10 11 12 13 14 24 52\n",
      " 4\n",
      " intersection_update 10\n",
      " 2 3 5 6 8 9 1 4 7 11\n"
     ]
    },
    {
     "name": "stdout",
     "output_type": "stream",
     "text": [
      "intersection_update\n",
      "10\n",
      "{1, 2, 3, 4, 5, 6, 7, 8, 9, 11}\n"
     ]
    },
    {
     "name": "stdin",
     "output_type": "stream",
     "text": [
      " update 2\n",
      " 55 66\n"
     ]
    },
    {
     "name": "stdout",
     "output_type": "stream",
     "text": [
      "update\n",
      "2\n",
      "{66, 55}\n"
     ]
    },
    {
     "name": "stdin",
     "output_type": "stream",
     "text": [
      " symmetric_difference_update 5\n",
      " 22 7 35 62 58\n"
     ]
    },
    {
     "name": "stdout",
     "output_type": "stream",
     "text": [
      "symmetric_difference_update\n",
      "5\n",
      "{35, 7, 22, 58, 62}\n"
     ]
    },
    {
     "name": "stdin",
     "output_type": "stream",
     "text": [
      " difference_update 7\n",
      " 11 22 35 55 58 62 66\n"
     ]
    },
    {
     "name": "stdout",
     "output_type": "stream",
     "text": [
      "difference_update\n",
      "7\n",
      "{66, 35, 11, 22, 55, 58, 62}\n",
      "38\n"
     ]
    }
   ],
   "source": [
    "aLen = int(input());\n",
    "A = set(map(int, input().split()))\n",
    "n = int(input());\n",
    "for i in range(m):\n",
    "    cmd, slen  = input().split(' ')\n",
    "    s = set(map(int, input().split()))\n",
    "    eval('A.' + cmd + '(s)');\n",
    "print(sum(A))"
   ]
  },
  {
   "cell_type": "code",
   "execution_count": 11,
   "metadata": {},
   "outputs": [
    {
     "name": "stdout",
     "output_type": "stream",
     "text": [
      "1\n"
     ]
    },
    {
     "ename": "TypeError",
     "evalue": "'int' object is not iterable",
     "output_type": "error",
     "traceback": [
      "\u001b[1;31m---------------------------------------------------------------------------\u001b[0m",
      "\u001b[1;31mTypeError\u001b[0m                                 Traceback (most recent call last)",
      "\u001b[1;32m<ipython-input-11-814f5578a388>\u001b[0m in \u001b[0;36m<module>\u001b[1;34m\u001b[0m\n\u001b[0;32m      2\u001b[0m \u001b[1;32mfor\u001b[0m \u001b[0mcurrSet\u001b[0m \u001b[1;32min\u001b[0m \u001b[0mH\u001b[0m\u001b[1;33m:\u001b[0m\u001b[1;33m\u001b[0m\u001b[1;33m\u001b[0m\u001b[0m\n\u001b[0;32m      3\u001b[0m     \u001b[0mprint\u001b[0m\u001b[1;33m(\u001b[0m\u001b[0mcurrSet\u001b[0m\u001b[1;33m)\u001b[0m\u001b[1;33m\u001b[0m\u001b[1;33m\u001b[0m\u001b[0m\n\u001b[1;32m----> 4\u001b[1;33m     \u001b[0mH\u001b[0m\u001b[1;33m.\u001b[0m\u001b[0mintersection_update\u001b[0m\u001b[1;33m(\u001b[0m\u001b[0mcurrSet\u001b[0m\u001b[1;33m)\u001b[0m\u001b[1;33m\u001b[0m\u001b[1;33m\u001b[0m\u001b[0m\n\u001b[0m\u001b[0;32m      5\u001b[0m \u001b[0mprint\u001b[0m\u001b[1;33m(\u001b[0m\u001b[0mH\u001b[0m\u001b[1;33m)\u001b[0m\u001b[1;33m\u001b[0m\u001b[1;33m\u001b[0m\u001b[0m\n",
      "\u001b[1;31mTypeError\u001b[0m: 'int' object is not iterable"
     ]
    }
   ],
   "source": [
    "H = {1, 2, 3, 4, 5, 6, 7, 8, 9, 10, 11, 12, 13, 14, 52, 24}\n",
    "for currSet in H:\n",
    "    print(currSet)\n",
    "    H.intersection_update(currSet)\n",
    "print(H)"
   ]
  },
  {
   "cell_type": "code",
   "execution_count": null,
   "metadata": {},
   "outputs": [],
   "source": []
  }
 ],
 "metadata": {
  "kernelspec": {
   "display_name": "Python 3",
   "language": "python",
   "name": "python3"
  },
  "language_info": {
   "codemirror_mode": {
    "name": "ipython",
    "version": 3
   },
   "file_extension": ".py",
   "mimetype": "text/x-python",
   "name": "python",
   "nbconvert_exporter": "python",
   "pygments_lexer": "ipython3",
   "version": "3.8.3rc1"
  }
 },
 "nbformat": 4,
 "nbformat_minor": 4
}
