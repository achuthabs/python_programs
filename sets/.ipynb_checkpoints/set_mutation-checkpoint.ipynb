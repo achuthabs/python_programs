{
 "cells": [
  {
   "cell_type": "markdown",
   "metadata": {},
   "source": [
    "We have seen the applications of union, intersection, difference and symmetric difference operations, but these operations do not make any changes or mutations to the set.\n",
    "\n",
    "We can use the following operations to create mutations to a set:\n",
    "\n",
    ".update() or |=\n",
    "Update the set by adding elements from an iterable/another set.\n",
    "\n",
    ">>> H = set(\"Hacker\")\n",
    ">>> R = set(\"Rank\")\n",
    ">>> H.update(R)\n",
    ">>> print H\n",
    "set(['a', 'c', 'e', 'H', 'k', 'n', 'r', 'R'])\n",
    ".intersection_update() or &=\n",
    "Update the set by keeping only the elements found in it and an iterable/another set.\n",
    "\n",
    ">>> H = set(\"Hacker\")\n",
    ">>> R = set(\"Rank\")\n",
    ">>> H.intersection_update(R)\n",
    ">>> print H\n",
    "set(['a', 'k'])\n",
    ".difference_update() or -=\n",
    "Update the set by removing elements found in an iterable/another set.\n",
    "\n",
    ">>> H = set(\"Hacker\")\n",
    ">>> R = set(\"Rank\")\n",
    ">>> H.difference_update(R)\n",
    ">>> print H\n",
    "set(['c', 'e', 'H', 'r'])\n",
    ".symmetric_difference_update() or ^=\n",
    "Update the set by only keeping the elements found in either set, but not in both.\n",
    "\n",
    ">>> H = set(\"Hacker\")\n",
    ">>> R = set(\"Rank\")\n",
    ">>> H.symmetric_difference_update(R)\n",
    ">>> print H\n",
    "set(['c', 'e', 'H', 'n', 'r', 'R'])"
   ]
  },
  {
   "cell_type": "code",
   "execution_count": null,
   "metadata": {},
   "outputs": [],
   "source": [
    "from collections import deque\n",
    "n = int(input())\n",
    "int_value = set(map(int, input().split()))\n",
    "m = int(input())\n",
    "for i in range(m):\n",
    "    s = input().split()\n",
    "    cmd = s[0]\n",
    "    args = s[1]\n",
    "    print(cmd)\n",
    "    print(args)\n",
    "#     if cmd != \"print\":\n",
    "#         cmd += \"(\"+\",\".join(args)+\")\"\n",
    "#         eval(\"int_value.\"+cmd)\n",
    "#     else:\n",
    "#         print(d)\n",
    "print(\" \".join( map(str,d)))"
   ]
  }
 ],
 "metadata": {
  "kernelspec": {
   "display_name": "Python 3",
   "language": "python",
   "name": "python3"
  },
  "language_info": {
   "codemirror_mode": {
    "name": "ipython",
    "version": 3
   },
   "file_extension": ".py",
   "mimetype": "text/x-python",
   "name": "python",
   "nbconvert_exporter": "python",
   "pygments_lexer": "ipython3",
   "version": "3.8.3rc1"
  }
 },
 "nbformat": 4,
 "nbformat_minor": 4
}
