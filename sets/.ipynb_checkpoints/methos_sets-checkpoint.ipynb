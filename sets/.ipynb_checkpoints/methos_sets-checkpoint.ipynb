{
 "cells": [
  {
   "cell_type": "code",
   "execution_count": null,
   "metadata": {},
   "outputs": [],
   "source": [
    "num_eng = int(input())\n",
    "std_roll_eng = set(map(int, input().split()))\n",
    "num_frn = int(input())\n",
    "std_roll_frn = set(map(int, input().split()))\n",
    "# print(std_roll_eng)\n",
    "# print(std_roll_frn)\n",
    "print(len(std_roll_eng.union(std_roll_frn)))"
   ]
  }
 ],
 "metadata": {
  "kernelspec": {
   "display_name": "Python 3",
   "language": "python",
   "name": "python3"
  },
  "language_info": {
   "codemirror_mode": {
    "name": "ipython",
    "version": 3
   },
   "file_extension": ".py",
   "mimetype": "text/x-python",
   "name": "python",
   "nbconvert_exporter": "python",
   "pygments_lexer": "ipython3",
   "version": "3.8.3rc1"
  }
 },
 "nbformat": 4,
 "nbformat_minor": 4
}
