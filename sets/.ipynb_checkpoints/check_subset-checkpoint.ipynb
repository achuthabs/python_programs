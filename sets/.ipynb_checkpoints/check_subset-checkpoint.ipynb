{
 "cells": [
  {
   "cell_type": "code",
   "execution_count": 1,
   "metadata": {},
   "outputs": [
    {
     "name": "stdout",
     "output_type": "stream",
     "text": [
      "Original list : [2]\n",
      "Original sub list : [3, 6, 5, 4, 1]\n",
      "No, list is not subset of other.\n"
     ]
    }
   ],
   "source": [
    "# Python3 code to demonstrate \n",
    "# to check if list is subset of other \n",
    "# using all() \n",
    "\n",
    "# initializing list \n",
    "test_list = [2]\n",
    "sub_list = [3, 6, 5, 4, 1]\n",
    "\n",
    "# printing original lists \n",
    "print (\"Original list : \" + str(test_list)) \n",
    "print (\"Original sub list : \" + str(sub_list)) \n",
    "\n",
    "# using all() to \n",
    "# check subset of list \n",
    "flag = 0\n",
    "if(all(x in sub_list for x in test_list)): \n",
    "\tflag = 1\n",
    "\t\n",
    "# printing result \n",
    "if (flag) : \n",
    "\tprint (\"Yes, list is subset of other.\") \n",
    "else : \n",
    "\tprint (\"No, list is not subset of other.\") \n"
   ]
  },
  {
   "cell_type": "code",
   "execution_count": 29,
   "metadata": {},
   "outputs": [
    {
     "name": "stdin",
     "output_type": "stream",
     "text": [
      " 2\n",
      " 5\n",
      " 1 2 3 5 6\n",
      " 9\n",
      " 9 8 7 6 5 4 3 2 1\n",
      " 1\n",
      " 2\n",
      " 5\n",
      " 3 6 5 4 1\n"
     ]
    },
    {
     "name": "stdout",
     "output_type": "stream",
     "text": [
      "[True, False]\n",
      "[3, 6, 5, 4, 1]\n",
      "[2]\n"
     ]
    }
   ],
   "source": [
    "# Enter your code here. Read input from STDIN. Print output to STDOUT\n",
    "res = []\n",
    "for _ in range(int(input())):\n",
    "    flag = False\n",
    "    x = []\n",
    "    test_list = []\n",
    "    sub_list = []\n",
    "    for i in range(2):\n",
    "        aLen = int(input());\n",
    "        unorderedList = list(map(int, input().split()))\n",
    "        x.append(unorderedList)\n",
    "    test_list.append(x[0])\n",
    "    sub_list.append(x[1])\n",
    "    if(all(x in sub_list[0] for x in test_list[0])): \n",
    "        flag = True\n",
    "    if(flag):\n",
    "        res.append(str(flag))\n",
    "    else:\n",
    "        res.append(str(flag))\n",
    "print('\\n'.join(res))"
   ]
  },
  {
   "cell_type": "code",
   "execution_count": 30,
   "metadata": {},
   "outputs": [
    {
     "name": "stdin",
     "output_type": "stream",
     "text": [
      " 2\n",
      " 5\n",
      " 1 2 3 5 6\n",
      " 9\n",
      " 9 8 7 6 5 4 3 2 1\n"
     ]
    },
    {
     "name": "stdout",
     "output_type": "stream",
     "text": [
      "True\n"
     ]
    },
    {
     "name": "stdin",
     "output_type": "stream",
     "text": [
      " 1\n",
      " 2\n",
      " 5\n",
      " 3 6 5 4 1\n"
     ]
    },
    {
     "name": "stdout",
     "output_type": "stream",
     "text": [
      "False\n"
     ]
    }
   ],
   "source": [
    "for _ in range(int(input())):\n",
    "    x, a, z, b = input(), set(input().split()), input(), set(input().split())\n",
    "    print(a.issubset(b))"
   ]
  },
  {
   "cell_type": "code",
   "execution_count": null,
   "metadata": {},
   "outputs": [],
   "source": []
  }
 ],
 "metadata": {
  "kernelspec": {
   "display_name": "Python 3",
   "language": "python",
   "name": "python3"
  },
  "language_info": {
   "codemirror_mode": {
    "name": "ipython",
    "version": 3
   },
   "file_extension": ".py",
   "mimetype": "text/x-python",
   "name": "python",
   "nbconvert_exporter": "python",
   "pygments_lexer": "ipython3",
   "version": "3.8.3rc1"
  }
 },
 "nbformat": 4,
 "nbformat_minor": 4
}
