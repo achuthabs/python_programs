{
 "cells": [
  {
   "cell_type": "code",
   "execution_count": 2,
   "metadata": {},
   "outputs": [
    {
     "name": "stdin",
     "output_type": "stream",
     "text": [
      " 9\n",
      " 1 2 3 4 5 6 7 8 9\n",
      " 10\n",
      " pop\n",
      " remove 9\n",
      " discard 9\n",
      " discard 8\n",
      " remove 7\n",
      " pop \n",
      " discard 6\n",
      " remove 5\n",
      " pop\n",
      " discard 5\n"
     ]
    },
    {
     "name": "stdout",
     "output_type": "stream",
     "text": [
      "4\n"
     ]
    }
   ],
   "source": []
  },
  {
   "cell_type": "markdown",
   "metadata": {},
   "source": [
    ".remove(x)\n",
    "This operation removes element  from the set.\n",
    "If element  does not exist, it raises a KeyError.\n",
    "The .remove(x) operation returns None.\n",
    "\n",
    "Example\n",
    "\n",
    ">>> s = set([1, 2, 3, 4, 5, 6, 7, 8, 9])\n",
    ">>> s.remove(5)\n",
    ">>> print s\n",
    "set([1, 2, 3, 4, 6, 7, 8, 9])\n",
    ">>> print s.remove(4)\n",
    "None\n",
    ">>> print s\n",
    "set([1, 2, 3, 6, 7, 8, 9])\n",
    ">>> s.remove(0)\n",
    "KeyError: 0\n",
    ".discard(x)\n",
    "This operation also removes element  from the set.\n",
    "If element  does not exist, it does not raise a KeyError.\n",
    "The .discard(x) operation returns None.\n",
    "\n",
    "Example\n",
    "\n",
    ">>> s = set([1, 2, 3, 4, 5, 6, 7, 8, 9])\n",
    ">>> s.discard(5)\n",
    ">>> print s\n",
    "set([1, 2, 3, 4, 6, 7, 8, 9])\n",
    ">>> print s.discard(4)\n",
    "None\n",
    ">>> print s\n",
    "set([1, 2, 3, 6, 7, 8, 9])\n",
    ">>> s.discard(0)\n",
    ">>> print s\n",
    "set([1, 2, 3, 6, 7, 8, 9])\n",
    ".pop()\n",
    "This operation removes and return an arbitrary element from the set.\n",
    "If there are no elements to remove, it raises a KeyError.\n",
    "\n",
    "Example\n",
    "\n",
    ">>> s = set([1])\n",
    ">>> print s.pop()\n",
    "1\n",
    ">>> print s\n",
    "set([])\n",
    ">>> print s.pop()\n",
    "KeyError: pop from an empty set"
   ]
  },
  {
   "cell_type": "code",
   "execution_count": null,
   "metadata": {},
   "outputs": [],
   "source": [
    "aLen = int(input());\n",
    "a = set(map(int, input().split()))\n",
    "n = int(input());\n",
    "for i in range(n):\n",
    "    s = input().split()\n",
    "    cmd = s[0]\n",
    "    args = s[1:]\n",
    "    if cmd != \"print\":\n",
    "        cmd += \"(\"+\",\".join(args)+\")\"\n",
    "        eval(\"a.\"+cmd)\n",
    "    else:\n",
    "        print(a)\n",
    "print(sum(a))"
   ]
  }
 ],
 "metadata": {
  "kernelspec": {
   "display_name": "Python 3",
   "language": "python",
   "name": "python3"
  },
  "language_info": {
   "codemirror_mode": {
    "name": "ipython",
    "version": 3
   },
   "file_extension": ".py",
   "mimetype": "text/x-python",
   "name": "python",
   "nbconvert_exporter": "python",
   "pygments_lexer": "ipython3",
   "version": "3.8.3rc1"
  }
 },
 "nbformat": 4,
 "nbformat_minor": 4
}
