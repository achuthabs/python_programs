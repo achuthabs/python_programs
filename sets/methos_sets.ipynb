{
 "cells": [
  {
   "cell_type": "code",
   "execution_count": null,
   "metadata": {},
   "outputs": [],
   "source": [
    "num_eng = int(input())\n",
    "std_roll_eng = set(map(int, input().split()))\n",
    "num_frn = int(input())\n",
    "std_roll_frn = set(map(int, input().split()))\n",
    "# print(std_roll_eng)\n",
    "# print(std_roll_frn)\n",
    "print(len(std_roll_eng.union(std_roll_frn)))"
   ]
  },
  {
   "cell_type": "code",
   "execution_count": 1,
   "metadata": {},
   "outputs": [
    {
     "name": "stdin",
     "output_type": "stream",
     "text": [
      " 9\n",
      " 1 2 3 4 5 6 7 8 9\n",
      " 9\n",
      " 10 1 2 3 11 21 55 6 8\n"
     ]
    },
    {
     "name": "stdout",
     "output_type": "stream",
     "text": [
      "5\n"
     ]
    }
   ],
   "source": [
    "num_eng = int(input())\n",
    "std_roll_eng = set(map(int, input().split()))\n",
    "num_frn = int(input())\n",
    "std_roll_frn = set(map(int, input().split()))\n",
    "# print(std_roll_eng)\n",
    "# print(std_roll_frn)\n",
    "print(len(std_roll_eng.intersection(std_roll_frn)))"
   ]
  },
  {
   "cell_type": "code",
   "execution_count": 2,
   "metadata": {},
   "outputs": [
    {
     "name": "stdin",
     "output_type": "stream",
     "text": [
      " 9\n",
      " 1 2 3 4 5 6 7 8 9\n",
      " 9\n",
      " 10 1 2 3 11 21 55 6 8\n"
     ]
    },
    {
     "name": "stdout",
     "output_type": "stream",
     "text": [
      "4\n"
     ]
    }
   ],
   "source": [
    "num_eng = int(input())\n",
    "std_roll_eng = set(map(int, input().split()))\n",
    "num_frn = int(input())\n",
    "std_roll_frn = set(map(int, input().split()))\n",
    "# print(std_roll_eng)\n",
    "# print(std_roll_frn)\n",
    "print(len(std_roll_eng.difference(std_roll_frn)))"
   ]
  },
  {
   "cell_type": "code",
   "execution_count": 3,
   "metadata": {},
   "outputs": [
    {
     "name": "stdin",
     "output_type": "stream",
     "text": [
      " 9\n",
      " 1 2 3 4 5 6 7 8 9\n",
      " 9\n",
      " 10 1 2 3 11 21 55 6 8\n"
     ]
    },
    {
     "name": "stdout",
     "output_type": "stream",
     "text": [
      "8\n"
     ]
    }
   ],
   "source": [
    "num_eng = int(input())\n",
    "std_roll_eng = set(map(int, input().split()))\n",
    "num_frn = int(input())\n",
    "std_roll_frn = set(map(int, input().split()))\n",
    "# print(std_roll_eng)\n",
    "# print(std_roll_frn)\n",
    "print(len(std_roll_eng.symmetric_difference(std_roll_frn)))"
   ]
  },
  {
   "cell_type": "code",
   "execution_count": null,
   "metadata": {},
   "outputs": [],
   "source": []
  }
 ],
 "metadata": {
  "kernelspec": {
   "display_name": "Python 3",
   "language": "python",
   "name": "python3"
  },
  "language_info": {
   "codemirror_mode": {
    "name": "ipython",
    "version": 3
   },
   "file_extension": ".py",
   "mimetype": "text/x-python",
   "name": "python",
   "nbconvert_exporter": "python",
   "pygments_lexer": "ipython3",
   "version": "3.8.3rc1"
  }
 },
 "nbformat": 4,
 "nbformat_minor": 4
}
