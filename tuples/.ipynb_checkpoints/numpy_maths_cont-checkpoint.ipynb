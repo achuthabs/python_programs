{
 "cells": [
  {
   "cell_type": "markdown",
   "metadata": {},
   "source": [
    "mean\n",
    "\n",
    "The mean tool computes the arithmetic mean along the specified axis.\n",
    "\n",
    "import numpy\n",
    "\n",
    "my_array = numpy.array([ [1, 2], [3, 4] ])\n",
    "\n",
    "print numpy.mean(my_array, axis = 0)        #Output : [ 2.  3.]\n",
    "print numpy.mean(my_array, axis = 1)        #Output : [ 1.5  3.5]\n",
    "print numpy.mean(my_array, axis = None)     #Output : 2.5\n",
    "print numpy.mean(my_array)                  #Output : 2.5\n",
    "By default, the axis is None. Therefore, it computes the mean of the flattened array.\n",
    "\n",
    "var\n",
    "\n",
    "The var tool computes the arithmetic variance along the specified axis.\n",
    "\n",
    "import numpy\n",
    "\n",
    "my_array = numpy.array([ [1, 2], [3, 4] ])\n",
    "\n",
    "print numpy.var(my_array, axis = 0)         #Output : [ 1.  1.]\n",
    "print numpy.var(my_array, axis = 1)         #Output : [ 0.25  0.25]\n",
    "print numpy.var(my_array, axis = None)      #Output : 1.25\n",
    "print numpy.var(my_array)                   #Output : 1.25\n",
    "By default, the axis is None. Therefore, it computes the variance of the flattened array.\n",
    "\n",
    "std\n",
    "\n",
    "The std tool computes the arithmetic standard deviation along the specified axis.\n",
    "\n",
    "import numpy\n",
    "\n",
    "my_array = numpy.array([ [1, 2], [3, 4] ])\n",
    "\n",
    "print numpy.std(my_array, axis = 0)         #Output : [ 1.  1.]\n",
    "print numpy.std(my_array, axis = 1)         #Output : [ 0.5  0.5]\n",
    "print numpy.std(my_array, axis = None)      #Output : 1.11803398875\n",
    "print numpy.std(my_array)                   #Output : 1.11803398875\n",
    "By default, the axis is None. Therefore, it computes the standard deviation of the flattened array."
   ]
  },
  {
   "cell_type": "code",
   "execution_count": 6,
   "metadata": {},
   "outputs": [
    {
     "name": "stdin",
     "output_type": "stream",
     "text": [
      " 2 2\n",
      " 1 2\n",
      " 3 4\n"
     ]
    },
    {
     "name": "stdout",
     "output_type": "stream",
     "text": [
      "1.118033988749895\n"
     ]
    }
   ],
   "source": [
    "import numpy\n",
    "\n",
    "numpy.set_printoptions(sign=' ')\n",
    "n, m = map(int, input().split())\n",
    "a=numpy.zeros((n,m),int)\n",
    "for i in range(n):\n",
    "    a[i] = numpy.array(input().split(),int)\n",
    "print(numpy.mean(a, axis = 1))\n",
    "print(numpy.var(a, axis = 0))\n",
    "print(numpy.std(a))"
   ]
  },
  {
   "cell_type": "code",
   "execution_count": null,
   "metadata": {},
   "outputs": [],
   "source": []
  }
 ],
 "metadata": {
  "kernelspec": {
   "display_name": "Python 3",
   "language": "python",
   "name": "python3"
  },
  "language_info": {
   "codemirror_mode": {
    "name": "ipython",
    "version": 3
   },
   "file_extension": ".py",
   "mimetype": "text/x-python",
   "name": "python",
   "nbconvert_exporter": "python",
   "pygments_lexer": "ipython3",
   "version": "3.8.3rc1"
  }
 },
 "nbformat": 4,
 "nbformat_minor": 4
}
