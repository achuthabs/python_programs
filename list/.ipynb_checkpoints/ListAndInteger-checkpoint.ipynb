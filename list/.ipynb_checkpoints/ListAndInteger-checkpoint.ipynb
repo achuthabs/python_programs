{
 "cells": [
  {
   "cell_type": "code",
   "execution_count": 59,
   "metadata": {},
   "outputs": [
    {
     "name": "stdin",
     "output_type": "stream",
     "text": [
      " 3\n"
     ]
    },
    {
     "name": "stdout",
     "output_type": "stream",
     "text": [
      "123"
     ]
    }
   ],
   "source": [
    "#!/bin/python3\n",
    "\n",
    "# import math\n",
    "# import os\n",
    "# import random\n",
    "# import re\n",
    "# import sys\n",
    "\n",
    "\n",
    "\n",
    "# if __name__ == '__main__':\n",
    "#     n = int(input().strip())\n",
    "#     if n % 2 == 1:\n",
    "#         print(\"Weird\")\n",
    "#     elif n % 2 == 0 and 2 <= n <= 5:\n",
    "#         print(\"Not Weird\")\n",
    "#     elif n % 2 == 0 and 6 <= n <= 20:\n",
    "#         print(\"Weird\")\n",
    "#     else:\n",
    "#         print(\"Not Weird\")\n",
    "# if __name__ == '__main__':\n",
    "#     a = int(input())\n",
    "#     b = int(input())\n",
    "#     print(a//b) #integer divison\n",
    "#     print(a/b)\n",
    "#     print(a+b)\n",
    "#     print(a-b)\n",
    "#     print(a*b)\n",
    "\n",
    "# if __name__ == '__main__':\n",
    "#     n = int(input())\n",
    "#     for x in range(n):# to iterate over integer\n",
    "#         print(x**2)\n",
    "\n",
    "# def is_leap(year):\n",
    "#     leap = False\n",
    "    \n",
    "#     # Write your logic here\n",
    "#     if (year % 4 == 0):\n",
    "#         leap = True  \n",
    "#         if(year % 100 == 0):\n",
    "#             if (year % 400 == 0):            \n",
    "#                 leap = True\n",
    "#             else:\n",
    "#                 leap = False\n",
    "            \n",
    "#     return leap\n",
    "\n",
    "# year = int(input())\n",
    "# print(is_leap(year))\n",
    "\n",
    "if __name__ == '__main__':\n",
    "    n = int(input())\n",
    "    for a in range(1, n+1):\n",
    "        print(a, end=\"\") #to print in same line by escaping new line"
   ]
  },
  {
   "cell_type": "code",
   "execution_count": null,
   "metadata": {},
   "outputs": [],
   "source": []
  }
 ],
 "metadata": {
  "kernelspec": {
   "display_name": "Python 3",
   "language": "python",
   "name": "python3"
  },
  "language_info": {
   "codemirror_mode": {
    "name": "ipython",
    "version": 3
   },
   "file_extension": ".py",
   "mimetype": "text/x-python",
   "name": "python",
   "nbconvert_exporter": "python",
   "pygments_lexer": "ipython3",
   "version": "3.8.3rc1"
  }
 },
 "nbformat": 4,
 "nbformat_minor": 4
}
