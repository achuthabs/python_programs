{
 "cells": [
  {
   "cell_type": "code",
   "execution_count": 46,
   "metadata": {},
   "outputs": [
    {
     "name": "stdin",
     "output_type": "stream",
     "text": [
      " apple apricot pineapple grape anaar papaya banana mango blueberry\n"
     ]
    },
    {
     "name": "stdout",
     "output_type": "stream",
     "text": [
      "['a', 'anaar', 'apple', 'apricot', 'b', 'banana', 'blueberry', 'g', 'grape', 'm', 'mango', 'p', 'papaya', 'pineapple']\n"
     ]
    }
   ],
   "source": [
    "test_list = list(map(str, input().split()))\n",
    "b = []\n",
    "for i in test_list:\n",
    "    b.append(i[0])\n",
    "b = list(sorted(dict.fromkeys(b)))\n",
    "res = test_list + b\n",
    "print(sorted(res))"
   ]
  },
  {
   "cell_type": "code",
   "execution_count": null,
   "metadata": {},
   "outputs": [],
   "source": []
  }
 ],
 "metadata": {
  "kernelspec": {
   "display_name": "Python 3",
   "language": "python",
   "name": "python3"
  },
  "language_info": {
   "codemirror_mode": {
    "name": "ipython",
    "version": 3
   },
   "file_extension": ".py",
   "mimetype": "text/x-python",
   "name": "python",
   "nbconvert_exporter": "python",
   "pygments_lexer": "ipython3",
   "version": "3.8.3rc1"
  }
 },
 "nbformat": 4,
 "nbformat_minor": 4
}
