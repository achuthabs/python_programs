{
 "cells": [
  {
   "cell_type": "code",
   "execution_count": null,
   "metadata": {},
   "outputs": [],
   "source": [
    "if __name__ == '__main__':\n",
    "    N = int(input())\n",
    "    lst = []\n",
    "    N = int(input())\n",
    "    lst.insert(0,N)\n",
    "    N = int(input())\n",
    "    lst.insert(1,N)\n",
    "    N = int(input())\n",
    "    lst.insert(0, N)\n",
    "    print(lst)\n",
    "    N = int(input())\n",
    "    lst.remove(N)\n",
    "    N = int(input())\n",
    "    lst.append(N)\n",
    "    N = int(input())\n",
    "    lst.append(N)\n",
    "    lst.sort()\n",
    "    print(lst)\n",
    "    lst.pop()\n",
    "    lst.reverse()\n",
    "    print(lst)"
   ]
  }
 ],
 "metadata": {
  "kernelspec": {
   "display_name": "Python 3",
   "language": "python",
   "name": "python3"
  },
  "language_info": {
   "codemirror_mode": {
    "name": "ipython",
    "version": 3
   },
   "file_extension": ".py",
   "mimetype": "text/x-python",
   "name": "python",
   "nbconvert_exporter": "python",
   "pygments_lexer": "ipython3",
   "version": "3.8.3rc1"
  }
 },
 "nbformat": 4,
 "nbformat_minor": 4
}
