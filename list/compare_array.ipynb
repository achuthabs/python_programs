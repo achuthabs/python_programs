{
 "cells": [
  {
   "cell_type": "code",
   "execution_count": 33,
   "metadata": {},
   "outputs": [
    {
     "name": "stdout",
     "output_type": "stream",
     "text": [
      "20 20\n",
      "20 20\n",
      "20 50\n",
      "(0, 1)\n"
     ]
    }
   ],
   "source": [
    "#!/bin/python3\n",
    "\n",
    "import math\n",
    "import os\n",
    "import random\n",
    "import re\n",
    "import sys\n",
    "\n",
    "# Complete the compareTriplets function below.\n",
    "def compareTriplets(a, b):\n",
    "    bob = 0\n",
    "    alice = 0\n",
    "    for i in a:\n",
    "        for j in b:\n",
    "            print(i,j)\n",
    "            if i < j:\n",
    "                i+=1\n",
    "                bob+=1\n",
    "            elif i > j:\n",
    "                i+=1\n",
    "                alice+=1\n",
    "            else:\n",
    "                i+=0\n",
    "                j+=0\n",
    "        return (alice, bob)\n",
    "if __name__ == '__main__':\n",
    "\n",
    "    a = [20, 20, 30]\n",
    "    b = [20, 20, 50]\n",
    "    result = compareTriplets(a, b)\n",
    "    print(result)\n"
   ]
  },
  {
   "cell_type": "code",
   "execution_count": null,
   "metadata": {},
   "outputs": [],
   "source": [
    "|"
   ]
  }
 ],
 "metadata": {
  "kernelspec": {
   "display_name": "Python 3",
   "language": "python",
   "name": "python3"
  },
  "language_info": {
   "codemirror_mode": {
    "name": "ipython",
    "version": 3
   },
   "file_extension": ".py",
   "mimetype": "text/x-python",
   "name": "python",
   "nbconvert_exporter": "python",
   "pygments_lexer": "ipython3",
   "version": "3.8.3rc1"
  }
 },
 "nbformat": 4,
 "nbformat_minor": 4
}
