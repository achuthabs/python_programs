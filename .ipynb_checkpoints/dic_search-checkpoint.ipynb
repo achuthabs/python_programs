{
 "cells": [
  {
   "cell_type": "code",
   "execution_count": null,
   "metadata": {},
   "outputs": [],
   "source": [
    "class my_dictionary(dict): \n",
    "    def __init__(self): \n",
    "        self = dict() \n",
    "\n",
    "    def add(self, key, value): \n",
    "        self[key] = value\n",
    "        \n",
    "dict_obj = my_dictionary()\n",
    "\n",
    "for _ in range(int(input())):\n",
    "    name = input()\n",
    "    score = float(input())\n",
    "    dict_obj.add(name, score)\n",
    "temp = set(dict_obj.values())\n",
    "temp = list(sorted(temp))[-1]\n",
    "res = [key for key in dict_obj if dict_obj[key] == temp]\n",
    "res.sort()\n",
    "for i in res:\n",
    "    print(i)"
   ]
  },
  {
   "cell_type": "code",
   "execution_count": null,
   "metadata": {},
   "outputs": [],
   "source": []
  }
 ],
 "metadata": {
  "kernelspec": {
   "display_name": "Python 3",
   "language": "python",
   "name": "python3"
  },
  "language_info": {
   "codemirror_mode": {
    "name": "ipython",
    "version": 3
   },
   "file_extension": ".py",
   "mimetype": "text/x-python",
   "name": "python",
   "nbconvert_exporter": "python",
   "pygments_lexer": "ipython3",
   "version": "3.7.4"
  }
 },
 "nbformat": 4,
 "nbformat_minor": 4
}
