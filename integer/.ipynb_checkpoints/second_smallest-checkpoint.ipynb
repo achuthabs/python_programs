{
 "cells": [
  {
   "cell_type": "code",
   "execution_count": 5,
   "metadata": {},
   "outputs": [
    {
     "name": "stdin",
     "output_type": "stream",
     "text": [
      " 5\n",
      " tina\n",
      " 4\n",
      " asda\n",
      " 52\n",
      " aqwe\n",
      " 25\n",
      " asdas\n",
      " 26\n",
      " eqwerqw\n",
      " 27\n"
     ]
    },
    {
     "name": "stdout",
     "output_type": "stream",
     "text": [
      "25.0\n",
      "26.0\n",
      "asdas\n"
     ]
    }
   ],
   "source": [
    "class my_dictionary(dict): \n",
    "    def __init__(self): \n",
    "        self = dict() \n",
    "\n",
    "    def add(self, key, value): \n",
    "        self[key] = value\n",
    "        \n",
    "dict_obj = my_dictionary()\n",
    "\n",
    "for _ in range(int(input())):\n",
    "    name = input()\n",
    "    score = float(input())\n",
    "    dict_obj.add(name, score)\n",
    "temp = list(sorted(dict_obj.values(), reverse = True))[-2]\n",
    "tmp = list(set(sorted(dict_obj.values(), reverse = True)))[-2]\n",
    "print(temp)\n",
    "print(tmp)\n",
    "res = [key for key in dict_obj if dict_obj[key] == tmp]\n",
    "res.sort()\n",
    "for i in res:\n",
    "    print(i)"
   ]
  },
  {
   "cell_type": "code",
   "execution_count": null,
   "metadata": {},
   "outputs": [],
   "source": [
    "marksheet=[]\n",
    "scorelist=[]\n",
    "if __name__ == '__main__':\n",
    "        for _ in range(int(input())):\n",
    "                name = input()\n",
    "                score = float(input())\n",
    "                marksheet+=[[name,score]]\n",
    "                scorelist+=[score]\n",
    "        b=sorted(list(set(scorelist)))[1] \n",
    "\n",
    "        for a,c in sorted(marksheet):\n",
    "             if c==b:\n",
    "                    print(a)"
   ]
  }
 ],
 "metadata": {
  "kernelspec": {
   "display_name": "Python 3",
   "language": "python",
   "name": "python3"
  },
  "language_info": {
   "codemirror_mode": {
    "name": "ipython",
    "version": 3
   },
   "file_extension": ".py",
   "mimetype": "text/x-python",
   "name": "python",
   "nbconvert_exporter": "python",
   "pygments_lexer": "ipython3",
   "version": "3.8.3rc1"
  }
 },
 "nbformat": 4,
 "nbformat_minor": 4
}
