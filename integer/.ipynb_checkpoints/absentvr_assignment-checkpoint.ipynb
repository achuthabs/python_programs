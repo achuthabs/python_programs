{
 "cells": [
  {
   "cell_type": "code",
   "execution_count": 71,
   "metadata": {},
   "outputs": [
    {
     "name": "stdin",
     "output_type": "stream",
     "text": [
      " 7\n",
      " 6\n",
      " 6\n",
      " 3\n",
      " 9\n",
      " 3\n",
      " 5\n",
      " 1\n",
      " 12\n"
     ]
    },
    {
     "name": "stdout",
     "output_type": "stream",
     "text": [
      "2\n"
     ]
    }
   ],
   "source": [
    "#!/bin/python3\n",
    "\n",
    "import math\n",
    "import os\n",
    "import random\n",
    "import re\n",
    "import sys\n",
    "\n",
    "\n",
    "\n",
    "#\n",
    "# Complete the 'stockPairs' function below.\n",
    "#\n",
    "# The function is expected to return an INTEGER.\n",
    "# The function accepts following parameters:\n",
    "#  1. INTEGER_ARRAY stocksProfit\n",
    "#  2. LONG_INTEGER target\n",
    "#\n",
    "\n",
    "def stockPairs(stocksProfit, target):\n",
    "    ans, comp = set(), set()\n",
    "    for n in stocksProfit:\n",
    "        c = target-n\n",
    "        if c in comp:\n",
    "            res = (n, c) if n > c else (c, n)\n",
    "            if res not in ans:\n",
    "                ans.add(res)\n",
    "        comp.add(n)\n",
    "    return len(ans)\n",
    "\n",
    "if __name__ == '__main__':\n",
    "#     fptr = open(os.environ['OUTPUT_PATH'], 'w')\n",
    "\n",
    "    stocksProfit_count = int(input().strip())\n",
    "\n",
    "    stocksProfit = []\n",
    "\n",
    "    for _ in range(stocksProfit_count):\n",
    "        stocksProfit_item = int(input().strip())\n",
    "        stocksProfit.append(stocksProfit_item)\n",
    "\n",
    "    target = int(input().strip())\n",
    "\n",
    "    result = stockPairs(stocksProfit, target)\n",
    "    print(result)\n",
    "#     fptr.write(str(result) + '\\n')\n",
    "\n",
    "#     fptr.close()\n"
   ]
  },
  {
   "cell_type": "code",
   "execution_count": 41,
   "metadata": {},
   "outputs": [
    {
     "name": "stdin",
     "output_type": "stream",
     "text": [
      " 1\n",
      " 20th Oct 2052\n"
     ]
    },
    {
     "name": "stdout",
     "output_type": "stream",
     "text": [
      "['2052-10-20']\n"
     ]
    }
   ],
   "source": [
    "#!/bin/python3\n",
    "\n",
    "import math\n",
    "import os\n",
    "import random\n",
    "import re\n",
    "import sys\n",
    "import datetime\n",
    "from time import strptime\n",
    "\n",
    "#\n",
    "# Complete the 'preprocessDate' function below.\n",
    "#\n",
    "# The function is expected to return a STRING_ARRAY.\n",
    "# The function accepts STRING_ARRAY dates as parameter.\n",
    "#\n",
    "\n",
    "def preprocessDate(dates):\n",
    "    # Write your code here\n",
    "    d = []\n",
    "    for i in dates:\n",
    "        d.append(datetime.datetime.strptime(re.sub(r\"(st|th|rd|nd)\", \"\", i), \"%d %b %Y\").strftime(\"%Y-%m-%d\"))\n",
    "#     print(new_data)\n",
    "    return d\n",
    "\n",
    "if __name__ == '__main__':\n",
    "#     fptr = open(os.environ['OUTPUT_PATH'], 'w')\n",
    "\n",
    "    dates_count = int(input().strip())\n",
    "\n",
    "    dates = []\n",
    "\n",
    "    for _ in range(dates_count):\n",
    "        dates_item = input()\n",
    "        dates.append(dates_item)\n",
    "\n",
    "    result = preprocessDate(dates)\n",
    "    print(result)\n",
    "\n",
    "#     fptr.write('\\n'.jo|in(result))\n",
    "#     fptr.write('\\n')|\n",
    "\n",
    "#     fptr.close()\n"
   ]
  },
  {
   "cell_type": "code",
   "execution_count": null,
   "metadata": {},
   "outputs": [],
   "source": []
  }
 ],
 "metadata": {
  "kernelspec": {
   "display_name": "Python 3",
   "language": "python",
   "name": "python3"
  },
  "language_info": {
   "codemirror_mode": {
    "name": "ipython",
    "version": 3
   },
   "file_extension": ".py",
   "mimetype": "text/x-python",
   "name": "python",
   "nbconvert_exporter": "python",
   "pygments_lexer": "ipython3",
   "version": "3.8.3rc1"
  }
 },
 "nbformat": 4,
 "nbformat_minor": 4
}
