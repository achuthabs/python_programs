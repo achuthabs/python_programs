{
 "cells": [
  {
   "cell_type": "code",
   "execution_count": 17,
   "metadata": {},
   "outputs": [
    {
     "name": "stdin",
     "output_type": "stream",
     "text": [
      " EWQTRY\n",
      " DGFAS\n"
     ]
    },
    {
     "name": "stdout",
     "output_type": "stream",
     "text": [
      "ERWTYQ\n",
      "SFDAG\n"
     ]
    }
   ],
   "source": [
    "#!/bin/python3\n",
    "\n",
    "import math\n",
    "import os\n",
    "import random\n",
    "import re\n",
    "import sys\n",
    "\n",
    "\n",
    "\n",
    "#\n",
    "# Complete the 'processStrings' function below.\n",
    "#\n",
    "# The function is expected to return a STRING_ARRAY.\n",
    "# The function accepts following parameters:\n",
    "#  1. STRING str1\n",
    "#  2. STRING str2\n",
    "#\n",
    "\n",
    "def processStrings(str1, str2):\n",
    "    # Write your code here\n",
    "    str3 = \"\"\n",
    "    str4 = \"\"\n",
    "    x = list(str1)\n",
    "    y = list(str2)\n",
    "    l = list(set(x).difference(set(y)))\n",
    "    m = list(set(y).difference(set(x)))\n",
    "    for ele in l:  \n",
    "        str3 += ele   \n",
    "    \n",
    "    for ele in m:  \n",
    "        str4 += ele \n",
    "    # return string   \n",
    "    return str3   \n",
    "    return str4 \n",
    "#     print(''.join(l))\n",
    "#     print(''.join(m))\n",
    "if __name__ == '__main__':\n",
    "#     fptr = open(os.environ['OUTPUT_PATH'], 'w')\n",
    "\n",
    "    str1 = input()\n",
    "\n",
    "    str2 = input()\n",
    "\n",
    "    result = processStrings(str1, str2)\n",
    "\n",
    "#     fptr.write('\\n'.join(result))\n",
    "#     fptr.write('\\n')\n",
    "\n",
    "#     fptr.close()\n"
   ]
  },
  {
   "cell_type": "code",
   "execution_count": 3,
   "metadata": {},
   "outputs": [
    {
     "name": "stdin",
     "output_type": "stream",
     "text": [
      " BANGALORE\n",
      " BC\n"
     ]
    },
    {
     "name": "stdout",
     "output_type": "stream",
     "text": [
      "ANGALORE"
     ]
    }
   ],
   "source": [
    "#!/bin/python3\n",
    "\n",
    "import math\n",
    "import os\n",
    "import random\n",
    "import re\n",
    "import sys\n",
    "\n",
    "\n",
    "\n",
    "#\n",
    "# Complete the 'processStrings' function below.\n",
    "#\n",
    "# The function is expected to return a STRING_ARRAY.\n",
    "# The function accepts following parameters:\n",
    "#  1. STRING str1\n",
    "#  2. STRING str2\n",
    "#\n",
    "\n",
    "def processStrings(str1, str2):\n",
    "    # Write your code here\n",
    "    n = len(str1)\n",
    "    m = len(str2)\n",
    "    for i in range(n):\n",
    "        for j in range(m):\n",
    "            if (str1[i] == str2[j]):\n",
    "                break\n",
    "            if(j == m-1):\n",
    "                print(str1[i], end=\"\")\n",
    "                \n",
    "if __name__ == '__main__':\n",
    "#     fptr = open(os.environ['OUTPUT_PATH'], 'w')\n",
    "\n",
    "    str1 = input()\n",
    "\n",
    "    str2 = input()\n",
    "\n",
    "    result = processStrings(str1, str2)\n",
    "\n",
    "#     fptr.write('\\n'.join(result))\n",
    "#     fptr.write('\\n')\n",
    "\n",
    "#     fptr.close()\n"
   ]
  },
  {
   "cell_type": "code",
   "execution_count": null,
   "metadata": {},
   "outputs": [],
   "source": []
  }
 ],
 "metadata": {
  "kernelspec": {
   "display_name": "Python 3",
   "language": "python",
   "name": "python3"
  },
  "language_info": {
   "codemirror_mode": {
    "name": "ipython",
    "version": 3
   },
   "file_extension": ".py",
   "mimetype": "text/x-python",
   "name": "python",
   "nbconvert_exporter": "python",
   "pygments_lexer": "ipython3",
   "version": "3.8.3rc1"
  }
 },
 "nbformat": 4,
 "nbformat_minor": 4
}
