{
 "cells": [
  {
   "cell_type": "code",
   "execution_count": 1,
   "metadata": {},
   "outputs": [
    {
     "name": "stdout",
     "output_type": "stream",
     "text": [
      "abrackdabra\n",
      "abrackdabra\n"
     ]
    }
   ],
   "source": [
    "string = \"abracadabra\"\n",
    "l = list(string)\n",
    "l[5] = 'k'\n",
    "string = ''.join(l)\n",
    "print(string)\n",
    "\n",
    "string = string[:5] + \"k\" + string[6:]\n",
    "print(string)"
   ]
  },
  {
   "cell_type": "code",
   "execution_count": 15,
   "metadata": {},
   "outputs": [
    {
     "name": "stdout",
     "output_type": "stream",
     "text": [
      "['ABCDCDC']\n",
      "['CDC']\n"
     ]
    }
   ],
   "source": [
    "def count_substring(string, sub_string):\n",
    "    li = list(string.split(\" \"))\n",
    "    print(li)\n",
    "    secLi = list(sub_string.split(\" \"))\n",
    "    print(secLi)\n",
    "    if secLi in li:\n",
    "        print (\"success\")\n",
    "    return\n",
    "\n",
    "if __name__ == '__main__':\n",
    "    count_substring(\"ABCDCDC\", \"CDC\")"
   ]
  },
  {
   "cell_type": "code",
   "execution_count": 24,
   "metadata": {},
   "outputs": [
    {
     "name": "stdout",
     "output_type": "stream",
     "text": [
      "0\n"
     ]
    }
   ],
   "source": [
    "import re;\n",
    "\n",
    "def count_substring(string, sub_string):\n",
    "    res = [i.start() for i in re.finditer(string, sub_string)] \n",
    "    print(len(res))\n",
    "#     return\n",
    "\n",
    "if __name__ == '__main__':\n",
    "    count_substring(\"ABCDCDC\", \"CDC\")"
   ]
  },
  {
   "cell_type": "code",
   "execution_count": 5,
   "metadata": {},
   "outputs": [
    {
     "name": "stdout",
     "output_type": "stream",
     "text": [
      "2\n"
     ]
    }
   ],
   "source": [
    "import re \n",
    "  \n",
    "# initializing string  \n",
    "test_str = \"ABCDCDC\"\n",
    "test_str.lower()\n",
    "# initializing substring \n",
    "test_sub = \"CDC\"\n",
    "test_sub.lower()\n",
    "# using re.findall() \n",
    "match = re.findall('(?='+test_sub+')',test_str)\n",
    "print(len(match))"
   ]
  },
  {
   "cell_type": "code",
   "execution_count": 21,
   "metadata": {},
   "outputs": [
    {
     "name": "stdin",
     "output_type": "stream",
     "text": [
      " asda@!@31312ASD\n"
     ]
    },
    {
     "name": "stdout",
     "output_type": "stream",
     "text": [
      "True\n",
      "True\n",
      "True\n",
      "True\n",
      "True\n"
     ]
    }
   ],
   "source": [
    "import re\n",
    "\n",
    "if __name__ == '__main__':\n",
    "    s = input()\n",
    "#     print(any(re.match(r\"^\\w+\",s)))\n",
    "#     print(any(re.match(r\"^\\D+\",s)))\n",
    "#     print(any(re.findall(r'[0-9]+', s)))\n",
    "#     print(any(re.findall('^[A-Z]+$', s)))\n",
    "#     print(any(re.findall('^[a-z]+$', s)))\n",
    "    print (any([c.isalnum() for c in s]))\n",
    "    print (any([c.isalpha() for c in s]))\n",
    "    print (any([c.isdigit() for c in s]))\n",
    "    print (any([c.islower() for c in s]))\n",
    "    print (any([c.isupper() for c in s]))"
   ]
  },
  {
   "cell_type": "code",
   "execution_count": 4,
   "metadata": {},
   "outputs": [
    {
     "name": "stdin",
     "output_type": "stream",
     "text": [
      " this is a string\n"
     ]
    },
    {
     "name": "stdout",
     "output_type": "stream",
     "text": [
      "this-is-a-string\n"
     ]
    }
   ],
   "source": [
    "def split_and_join(line):\n",
    "    # write your code here\n",
    "    line = line.split(\" \")\n",
    "    line = \"-\".join(line)\n",
    "    return line\n",
    "\n",
    "if __name__ == '__main__':\n",
    "    line = input()\n",
    "    result = split_and_join(line)\n",
    "    print(result)"
   ]
  },
  {
   "cell_type": "code",
   "execution_count": null,
   "metadata": {},
   "outputs": [],
   "source": [
    "x = int(input())\n",
    "y = int(input())\n",
    "z = int(input())\n",
    "n = int(input())\n",
    "ar = [] \n",
    "p = 0 \n",
    "for i in range ( x + 1 ): \n",
    "    for j in range( y + 1):\n",
    "        for k in range( z + 1):\n",
    "            if i+j != n and j+k !=n:\n",
    "                ar.append([])\n",
    "                ar[p] = [i, j]\n",
    "                [i, j] = [j, k]\n",
    "                [j, k] = ar[p]\n",
    "                p+=1 \n",
    "                print(ar)"
   ]
  },
  {
   "cell_type": "code",
   "execution_count": null,
   "metadata": {},
   "outputs": [],
   "source": []
  }
 ],
 "metadata": {
  "kernelspec": {
   "display_name": "Python 3",
   "language": "python",
   "name": "python3"
  },
  "language_info": {
   "codemirror_mode": {
    "name": "ipython",
    "version": 3
   },
   "file_extension": ".py",
   "mimetype": "text/x-python",
   "name": "python",
   "nbconvert_exporter": "python",
   "pygments_lexer": "ipython3",
   "version": "3.8.3rc1"
  }
 },
 "nbformat": 4,
 "nbformat_minor": 4
}
