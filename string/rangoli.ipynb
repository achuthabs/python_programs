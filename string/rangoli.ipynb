{
 "cells": [
  {
   "cell_type": "code",
   "execution_count": null,
   "metadata": {},
   "outputs": [],
   "source": [
    "## Enter your code here. Read input from STDIN. Print output to STDOUT\n",
    "\n",
    "n, m = map(int,input().split())\n",
    "c = \".|.\"\n",
    "\n",
    "# Top Part\n",
    "for i in range(n//2):\n",
    "    print((c*i).rjust((m-3)//2,'-')+c+(c*i).ljust((m-3)//2,'-'))\n",
    "\n",
    "# Middle Part\n",
    "print(\"WELCOME\".center(m, '-'))  \n",
    "\n",
    "# Bottom Part\n",
    "j = n//2 - 1\n",
    "for i in range(n//2):\n",
    "    print((c*j).rjust((m-3)//2,'-')+c+(c*j).ljust((m-3)//2,'-'))\n",
    "    j -= 1"
   ]
  },
  {
   "cell_type": "code",
   "execution_count": null,
   "metadata": {},
   "outputs": [],
   "source": [
    "------------.|.------------\n",
    "---------.|..|..|.---------\n",
    "------.|..|..|..|..|.------\n",
    "---.|..|..|..|..|..|..|.---\n",
    "----------WELCOME----------\n",
    "---.|..|..|..|..|..|..|.---\n",
    "------.|..|..|..|..|.------\n",
    "---------.|..|..|.---------\n",
    "------------.|.------------"
   ]
  },
  {
   "cell_type": "code",
   "execution_count": null,
   "metadata": {},
   "outputs": [],
   "source": [
    "n, m = map(int,input().split())\n",
    "pattern = [('.|.'*(2*i + 1)).center(m, '-') for i in range(n//2)]\n",
    "print('\\n'.join(pattern + ['WELCOME'.center(m, '-')] + pattern[::-1]))"
   ]
  },
  {
   "cell_type": "code",
   "execution_count": 40,
   "metadata": {},
   "outputs": [
    {
     "name": "stdin",
     "output_type": "stream",
     "text": [
      " 3\n"
     ]
    },
    {
     "name": "stdout",
     "output_type": "stream",
     "text": [
      "----c----\n",
      "--c-b-c--\n",
      "c-b-a-b-c\n",
      "--c-b-c--\n",
      "----c----\n"
     ]
    }
   ],
   "source": [
    "def print_rangoli(size):\n",
    "    n = size\n",
    "    l1 = list(map(chr, range(97, 123)))\n",
    "    x = l1[n-1::-1]+l1[1:n]\n",
    "    m = len('-'.join(x))\n",
    "    for i in range(1, n):\n",
    "        print('-'.join(l1[n-1:n-i:-1]+l1[n-i:n]).center(m, '-'))\n",
    "    for i in range(n,0,-1):\n",
    "        print('-'.join(l1[n-1:n-i:-1]+l1[n-i:n]).center(m, '-'))\n",
    "if __name__ == '__main__':\n",
    "    n = int(input())\n",
    "    print_rangoli(n)"
   ]
  },
  {
   "cell_type": "code",
   "execution_count": null,
   "metadata": {},
   "outputs": [],
   "source": []
  }
 ],
 "metadata": {
  "kernelspec": {
   "display_name": "Python 3",
   "language": "python",
   "name": "python3"
  },
  "language_info": {
   "codemirror_mode": {
    "name": "ipython",
    "version": 3
   },
   "file_extension": ".py",
   "mimetype": "text/x-python",
   "name": "python",
   "nbconvert_exporter": "python",
   "pygments_lexer": "ipython3",
   "version": "3.8.3rc1"
  }
 },
 "nbformat": 4,
 "nbformat_minor": 4
}
