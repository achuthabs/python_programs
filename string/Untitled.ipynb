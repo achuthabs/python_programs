{
 "cells": [
  {
   "cell_type": "code",
   "execution_count": 8,
   "metadata": {},
   "outputs": [
    {
     "name": "stdin",
     "output_type": "stream",
     "text": [
      " BANANA\n"
     ]
    },
    {
     "name": "stdout",
     "output_type": "stream",
     "text": [
      "B\n",
      "BA\n",
      "BAN\n",
      "BANA\n",
      "BANAN\n",
      "BANANA\n",
      "A\n",
      "AN\n",
      "ANA\n",
      "ANAN\n",
      "ANANA\n",
      "N\n",
      "NA\n",
      "NAN\n",
      "NANA\n",
      "A\n",
      "AN\n",
      "ANA\n",
      "N\n",
      "NA\n",
      "A\n"
     ]
    }
   ],
   "source": [
    "def minion_game(string):\n",
    "    res = [string[i: j] for i in range(len(string)) \n",
    "          for j in range(i + 1, len(string) + 1)]\n",
    "    print('\\n'.join(res))\n",
    "#     print(str(res))\n",
    "if __name__ == '__main__':\n",
    "    s = input()\n",
    "    minion_game(s)"
   ]
  },
  {
   "cell_type": "code",
   "execution_count": 18,
   "metadata": {},
   "outputs": [
    {
     "name": "stdin",
     "output_type": "stream",
     "text": [
      " BANANA\n"
     ]
    },
    {
     "name": "stdout",
     "output_type": "stream",
     "text": [
      "0 6\n",
      "5 6\n",
      "5 10\n",
      "8 10\n",
      "8 12\n",
      "9 12\n",
      "Stuart  9\n"
     ]
    }
   ],
   "source": [
    "def minion_game(string):\n",
    "    alpha = \"AEIOU\"\n",
    "    kevinStr = 0\n",
    "    stuartStr = 0\n",
    "    for i in range(len(string)):\n",
    "#         print(string[i])\n",
    "        if string[i] in alpha:\n",
    "            kevinStr += (len(string) - i)\n",
    "        else:\n",
    "            stuartStr += (len(string) - i)\n",
    "        print(kevinStr, stuartStr)\n",
    "    if kevinStr > stuartStr:\n",
    "        print(\"Kevin \",kevinStr)\n",
    "    elif kevinStr < stuartStr:\n",
    "        print(\"Stuart \",kevinStr)\n",
    "    else:\n",
    "        print(\"Draw\")\n",
    "        \n",
    "if __name__ == '__main__':\n",
    "    s = input()\n",
    "    minion_game(s)"
   ]
  },
  {
   "cell_type": "code",
   "execution_count": null,
   "metadata": {},
   "outputs": [],
   "source": []
  }
 ],
 "metadata": {
  "kernelspec": {
   "display_name": "Python 3",
   "language": "python",
   "name": "python3"
  },
  "language_info": {
   "codemirror_mode": {
    "name": "ipython",
    "version": 3
   },
   "file_extension": ".py",
   "mimetype": "text/x-python",
   "name": "python",
   "nbconvert_exporter": "python",
   "pygments_lexer": "ipython3",
   "version": "3.8.3rc1"
  }
 },
 "nbformat": 4,
 "nbformat_minor": 4
}
