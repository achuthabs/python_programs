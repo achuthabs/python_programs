{
 "cells": [
  {
   "cell_type": "code",
   "execution_count": 59,
   "metadata": {},
   "outputs": [
    {
     "name": "stdin",
     "output_type": "stream",
     "text": [
      " 3\n",
      " MARY,JOE\n",
      " JOE,MARY\n",
      " A,B\n"
     ]
    },
    {
     "name": "stdout",
     "output_type": "stream",
     "text": [
      "['A,B', 'JOE,MARY']\n",
      "A,B\n",
      "JOE,MARY\n"
     ]
    }
   ],
   "source": [
    "#!/bin/python3\n",
    "\n",
    "import math\n",
    "import os\n",
    "import random\n",
    "import re\n",
    "import sys\n",
    "\n",
    "\n",
    "#\n",
    "# Complete the 'compareFriends' function below.\n",
    "#\n",
    "# The function is expected to return a STRING_ARRAY.\n",
    "# The function accepts STRING_ARRAY frndsList as parameter.\n",
    "#\n",
    "\n",
    "def compareFriends(frndsList):\n",
    "    # Write your code here\n",
    "    users = []\n",
    "    for items in frndsList:\n",
    "        a = items.split(\",\")\n",
    "        b = a[0]\n",
    "        c = a[1]\n",
    " \n",
    "        key = c + \",\" + b if b > c else b + \",\" + c\n",
    "        users.append(key)\n",
    " \n",
    "    users.sort()\n",
    "    res = [i for n, i in enumerate(users) if i not in users[:n]]\n",
    "    for i in res:\n",
    "        yield i\n",
    "\n",
    "if __name__ == '__main__':"
   ]
  },
  {
   "cell_type": "code",
   "execution_count": 50,
   "metadata": {},
   "outputs": [
    {
     "name": "stdout",
     "output_type": "stream",
     "text": [
      "[['U1', 'U2'], ['U3', 'U4'], ['U2', 'U1'], ['U1', 'U5']]\n",
      "{('U1', 'U2'), ('U3', 'U4'), ('U1', 'U5')}\n"
     ]
    }
   ],
   "source": [
    "list1=[\"U1,U2\",\"U3,U4\",\"U2,U1\",\"U1,U5\"]\n",
    " \n",
    "list2= map(lambda each:each.strip('\"'), list1)  # remove double quotes\n",
    " \n",
    "temp=[]\n",
    " \n",
    "for i in list2:\n",
    "    temp.append(i.split(','))  #split seperated comma\n",
    "\n",
    "print(temp)\n",
    " \n",
    "print(set(tuple(sorted(i)) for i in temp))"
   ]
  },
  {
   "cell_type": "code",
   "execution_count": null,
   "metadata": {},
   "outputs": [],
   "source": []
  }
 ],
 "metadata": {
  "kernelspec": {
   "display_name": "Python 3",
   "language": "python",
   "name": "python3"
  },
  "language_info": {
   "codemirror_mode": {
    "name": "ipython",
    "version": 3
   },
   "file_extension": ".py",
   "mimetype": "text/x-python",
   "name": "python",
   "nbconvert_exporter": "python",
   "pygments_lexer": "ipython3",
   "version": "3.8.3rc1"
  }
 },
 "nbformat": 4,
 "nbformat_minor": 4
}
