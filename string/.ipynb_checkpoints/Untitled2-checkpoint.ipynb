{
 "cells": [
  {
   "cell_type": "code",
   "execution_count": 2,
   "metadata": {},
   "outputs": [
    {
     "name": "stdin",
     "output_type": "stream",
     "text": [
      " BANGALORE\n",
      " BC\n"
     ]
    },
    {
     "name": "stdout",
     "output_type": "stream",
     "text": [
      "A C N G A L O R E "
     ]
    }
   ],
   "source": [
    "#!/bin/python3\n",
    "\n",
    "import math\n",
    "import os\n",
    "import random\n",
    "import re\n",
    "import sys\n",
    "\n",
    "\n",
    "\n",
    "#\n",
    "# Complete the 'processStrings' function below.\n",
    "#\n",
    "# The function is expected to return a STRING_ARRAY.\n",
    "# The function accepts following parameters:\n",
    "#  1. STRING str1\n",
    "#  2. STRING str2\n",
    "#\n",
    "\n",
    "def processStrings(str1, str2):\n",
    "    # Write your code here\n",
    "    i = 0\n",
    "    j = 0\n",
    "    k = 0\n",
    "    n = len(str1)\n",
    "    m = len(str2)\n",
    "    while (i < n and j < m) : \n",
    "  \n",
    "        # If not common, print smaller \n",
    "        if (str1[i] < str2[j]) : \n",
    "            print( str1[i] , end= \"\") \n",
    "            i = i + 1\n",
    "            k = k + 1\n",
    "              \n",
    "        elif (str2[j] < str1[i]) : \n",
    "            print( str2[j] , end= \"\") \n",
    "            k = k + 1\n",
    "            j = j + 1\n",
    "  \n",
    "        # Skip common element \n",
    "        else : \n",
    "            i = i + 1 \n",
    "            j = j + 1 \n",
    "      \n",
    "    # printing remaining elements \n",
    "    while (i < n) : \n",
    "        print( str1[i] , end= \"\") \n",
    "        i = i + 1\n",
    "        k = k + 1\n",
    "      \n",
    "    while (j < m) : \n",
    "        print( str2[j] , end= \"\") \n",
    "        j = j + 1\n",
    "        k = k + 1\n",
    "                \n",
    "if __name__ == '__main__':\n",
    "#     fptr = open(os.environ['OUTPUT_PATH'], 'w')\n",
    "\n",
    "    str1 = input()\n",
    "\n",
    "    str2 = input()\n",
    "\n",
    "    result = processStrings(str1, str2)\n",
    "\n",
    "#     fptr.write('\\n'.join(result))\n",
    "#     fptr.write('\\n')\n",
    "\n",
    "#     fptr.close()\n"
   ]
  },
  {
   "cell_type": "code",
   "execution_count": null,
   "metadata": {},
   "outputs": [],
   "source": []
  }
 ],
 "metadata": {
  "kernelspec": {
   "display_name": "Python 3",
   "language": "python",
   "name": "python3"
  },
  "language_info": {
   "codemirror_mode": {
    "name": "ipython",
    "version": 3
   },
   "file_extension": ".py",
   "mimetype": "text/x-python",
   "name": "python",
   "nbconvert_exporter": "python",
   "pygments_lexer": "ipython3",
   "version": "3.8.3rc1"
  }
 },
 "nbformat": 4,
 "nbformat_minor": 4
}
