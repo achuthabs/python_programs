{
 "cells": [
  {
   "cell_type": "code",
   "execution_count": null,
   "metadata": {},
   "outputs": [],
   "source": [
    "import textwrap\n",
    "\n",
    "def wrap(string, max_width):\n",
    "#     _wrap = textwrap.TextWrapper(max_width)\n",
    "#     _textW = _wrap.wrap(string)\n",
    "    return (textwrap.fill(string,max_width))\n",
    "\n",
    "if __name__ == '__main__':\n",
    "    string, max_width = input(), int(input())\n",
    "    result = wrap(string, max_width)\n",
    "    print(result)"
   ]
  },
  {
   "cell_type": "code",
   "execution_count": null,
   "metadata": {},
   "outputs": [],
   "source": [
    "import textwrap\n",
    "from collections import Counter\n",
    "\n",
    "def merge_the_tools(string, k):\n",
    "    # your code goes here\n",
    "    lst = []\n",
    "    lst = textwrap.wrap(string,k)\n",
    "    for i,j in enumerate(lst):\n",
    "        for n,m in enumerate(lst[i]):\n",
    "            print(set(lst[i]))\n",
    "#     for (i, name) in enumerate(lst):\n",
    "#         print(i, name)\n",
    "#         if lst[i] == lst[i+1]:\n",
    "#             print(True)\n",
    "#         else:\n",
    "#             print(False)\n",
    "    return lst\n",
    "    \n",
    "if __name__ == '__main__':\n",
    "    string, k = input(), int(input())\n",
    "    print(merge_the_tools(string, k))"
   ]
  },
  {
   "cell_type": "code",
   "execution_count": null,
   "metadata": {},
   "outputs": [],
   "source": []
  }
 ],
 "metadata": {
  "kernelspec": {
   "display_name": "Python 3",
   "language": "python",
   "name": "python3"
  },
  "language_info": {
   "codemirror_mode": {
    "name": "ipython",
    "version": 3
   },
   "file_extension": ".py",
   "mimetype": "text/x-python",
   "name": "python",
   "nbconvert_exporter": "python",
   "pygments_lexer": "ipython3",
   "version": "3.8.3rc1"
  }
 },
 "nbformat": 4,
 "nbformat_minor": 4
}
