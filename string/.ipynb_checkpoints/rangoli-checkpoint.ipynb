{
 "cells": [
  {
   "cell_type": "code",
   "execution_count": null,
   "metadata": {},
   "outputs": [],
   "source": [
    "## Enter your code here. Read input from STDIN. Print output to STDOUT\n",
    "\n",
    "n, m = map(int,input().split())\n",
    "c = \".|.\"\n",
    "\n",
    "# Top Part\n",
    "for i in range(n//2):\n",
    "    print((c*i).rjust((m-3)//2,'-')+c+(c*i).ljust((m-3)//2,'-'))\n",
    "\n",
    "# Middle Part\n",
    "print(\"WELCOME\".center(m, '-'))  \n",
    "\n",
    "# Bottom Part\n",
    "j = n//2 - 1\n",
    "for i in range(n//2):\n",
    "    print((c*j).rjust((m-3)//2,'-')+c+(c*j).ljust((m-3)//2,'-'))\n",
    "    j -= 1"
   ]
  },
  {
   "cell_type": "code",
   "execution_count": null,
   "metadata": {},
   "outputs": [],
   "source": [
    "------------.|.------------\n",
    "---------.|..|..|.---------\n",
    "------.|..|..|..|..|.------\n",
    "---.|..|..|..|..|..|..|.---\n",
    "----------WELCOME----------\n",
    "---.|..|..|..|..|..|..|.---\n",
    "------.|..|..|..|..|.------\n",
    "---------.|..|..|.---------\n",
    "------------.|.------------"
   ]
  },
  {
   "cell_type": "code",
   "execution_count": null,
   "metadata": {},
   "outputs": [],
   "source": [
    "n, m = map(int,input().split())\n",
    "pattern = [('.|.'*(2*i + 1)).center(m, '-') for i in range(n//2)]\n",
    "print('\\n'.join(pattern + ['WELCOME'.center(m, '-')] + pattern[::-1]))"
   ]
  },
  {
   "cell_type": "code",
   "execution_count": 22,
   "metadata": {},
   "outputs": [
    {
     "name": "stdin",
     "output_type": "stream",
     "text": [
      " 5\n"
     ]
    },
    {
     "name": "stdout",
     "output_type": "stream",
     "text": [
      "['a', 'b', 'c', 'd', 'e']\n"
     ]
    }
   ],
   "source": [
    "def print_rangoli(size):\n",
    "    # your code goes here\n",
    "    test_list = []\n",
    "    alpha = 'a'\n",
    "    for i in range(0, size): \n",
    "        test_list.append(alpha) \n",
    "        alpha = chr(ord(alpha) + 1) \n",
    "    return str(test_list)\n",
    "if __name__ == '__main__':\n",
    "    n = int(input())\n",
    "    print(print_rangoli(n))"
   ]
  },
  {
   "cell_type": "code",
   "execution_count": null,
   "metadata": {},
   "outputs": [],
   "source": []
  }
 ],
 "metadata": {
  "kernelspec": {
   "display_name": "Python 3",
   "language": "python",
   "name": "python3"
  },
  "language_info": {
   "codemirror_mode": {
    "name": "ipython",
    "version": 3
   },
   "file_extension": ".py",
   "mimetype": "text/x-python",
   "name": "python",
   "nbconvert_exporter": "python",
   "pygments_lexer": "ipython3",
   "version": "3.8.3rc1"
  }
 },
 "nbformat": 4,
 "nbformat_minor": 4
}
