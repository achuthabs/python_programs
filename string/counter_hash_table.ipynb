{
 "cells": [
  {
   "cell_type": "code",
   "execution_count": 9,
   "metadata": {},
   "outputs": [
    {
     "name": "stdin",
     "output_type": "stream",
     "text": [
      " 6 5\n",
      " two times three is not four\n",
      " two times two is four\n"
     ]
    },
    {
     "name": "stdout",
     "output_type": "stream",
     "text": [
      "No\n"
     ]
    }
   ],
   "source": [
    "#!/bin/python3\n",
    "\n",
    "import math\n",
    "import os\n",
    "import random\n",
    "import re\n",
    "import sys\n",
    "\n",
    "# Complete the checkMagazine function below.\n",
    "from collections import Counter\n",
    "\n",
    "def checkMagazine(magazine, rasom):\n",
    "    Counter(rasom) - Counter(magazine) == {}\n",
    "    if((Counter(rasom) - Counter(magazine) == {}) == False):\n",
    "        return \"No\"\n",
    "    else:\n",
    "        return \"Yes\"\n",
    "\n",
    "if __name__ == '__main__':\n",
    "    mn = input().split()\n",
    "\n",
    "    m = int(mn[0])\n",
    "\n",
    "    n = int(mn[1])\n",
    "\n",
    "    magazine = input().rstrip().split()\n",
    "\n",
    "    note = input().rstrip().split()\n",
    "\n",
    "    result = checkMagazine(magazine, note)\n",
    "    \n",
    "    print(result)"
   ]
  },
  {
   "cell_type": "code",
   "execution_count": null,
   "metadata": {},
   "outputs": [],
   "source": []
  }
 ],
 "metadata": {
  "kernelspec": {
   "display_name": "Python 3",
   "language": "python",
   "name": "python3"
  },
  "language_info": {
   "codemirror_mode": {
    "name": "ipython",
    "version": 3
   },
   "file_extension": ".py",
   "mimetype": "text/x-python",
   "name": "python",
   "nbconvert_exporter": "python",
   "pygments_lexer": "ipython3",
   "version": "3.8.3rc1"
  }
 },
 "nbformat": 4,
 "nbformat_minor": 4
}
