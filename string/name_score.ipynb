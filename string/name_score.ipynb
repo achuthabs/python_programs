{
 "cells": [
  {
   "cell_type": "code",
   "execution_count": 4,
   "metadata": {},
   "outputs": [
    {
     "name": "stdin",
     "output_type": "stream",
     "text": [
      "Enter name & score separated by \":\"  achu:3\n"
     ]
    },
    {
     "name": "stdout",
     "output_type": "stream",
     "text": [
      "Name: achu, Score: 3\n"
     ]
    }
   ],
   "source": [
    "class_list = dict()\n",
    "data = input('Enter name & score separated by \":\" ')\n",
    "temp = data.split(':')\n",
    "class_list[temp[0]] = int(temp[1])\n",
    " \n",
    "# Displaying the dictionary\n",
    "for key, value in class_list.items():\n",
    "\tprint('Name: {}, Score: {}'.format(key, value))"
   ]
  },
  {
   "cell_type": "code",
   "execution_count": null,
   "metadata": {},
   "outputs": [],
   "source": [
    "def runnerUp(name, score):\n",
    "    for names in name\n",
    "#     cls_dic = dict()\n",
    "#     cls_dic[name] = score\n",
    "#     print(cls_dic)\n",
    "#     score = list(score)\n",
    "#     print(score)\n",
    "    \n",
    "if __name__ == '__main__':\n",
    "    for _ in range(int(input())):\n",
    "        name = input()\n",
    "        score = float(input())\n",
    "    result = runnerUp(name, score)"
   ]
  },
  {
   "cell_type": "code",
   "execution_count": null,
   "metadata": {},
   "outputs": [],
   "source": []
  }
 ],
 "metadata": {
  "kernelspec": {
   "display_name": "Python 3",
   "language": "python",
   "name": "python3"
  },
  "language_info": {
   "codemirror_mode": {
    "name": "ipython",
    "version": 3
   },
   "file_extension": ".py",
   "mimetype": "text/x-python",
   "name": "python",
   "nbconvert_exporter": "python",
   "pygments_lexer": "ipython3",
   "version": "3.8.3rc1"
  }
 },
 "nbformat": 4,
 "nbformat_minor": 4
}
