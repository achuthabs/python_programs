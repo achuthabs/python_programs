{
 "cells": [
  {
   "cell_type": "code",
   "execution_count": 51,
   "metadata": {},
   "outputs": [
    {
     "name": "stdin",
     "output_type": "stream",
     "text": [
      " 1222311\n"
     ]
    },
    {
     "name": "stdout",
     "output_type": "stream",
     "text": [
      "(1, 1) (3, 2) (1, 3) (2, 1) "
     ]
    }
   ],
   "source": [
    "import itertools\n",
    "from collections import Counter\n",
    "\n",
    "n = list(input())\n",
    "key_func = lambda n: n[0] \n",
    "for key, group in itertools.groupby(n, key_func):\n",
    "#     res = (len(tuple(group)), int(key))\n",
    "    print(tuple((len(tuple(group)), int(key))), end = ' ')"
   ]
  },
  {
   "cell_type": "markdown",
   "metadata": {},
   "source": [
    "The itertools module standardizes a core set of fast, memory efficient tools that are useful by themselves or in combination. Together, they form an iterator algebra making it possible to construct specialized tools succinctly and efficiently in pure Python.\n",
    "\n",
    "To read more about the functions in this module, check out their documentation here.\n",
    "\n",
    "You are given a list of  lowercase English letters. For a given integer , you can select any  indices (assume -based indexing) with a uniform probability from the list.\n",
    "\n",
    "Find the probability that at least one of the  indices selected will contain the letter: ''."
   ]
  },
  {
   "cell_type": "code",
   "execution_count": 76,
   "metadata": {},
   "outputs": [
    {
     "name": "stdin",
     "output_type": "stream",
     "text": [
      " 10\n",
      " b b a b b b b b b b\n",
      " 10\n"
     ]
    },
    {
     "name": "stdout",
     "output_type": "stream",
     "text": [
      "[('b', 'b', 'a', 'b', 'b', 'b', 'b', 'b', 'b', 'b')]\n",
      "0 ('b', 'b', 'a', 'b', 'b', 'b', 'b', 'b', 'b', 'b')\n",
      "1.0\n"
     ]
    }
   ],
   "source": [
    "from itertools import combinations\n",
    "\n",
    "a = int(input())\n",
    "b = list(input())\n",
    "c = int(input())\n",
    "new_lst = [string for string in b if string != \" \"]\n",
    "lst = \"\"\n",
    "\n",
    "for item in new_lst:\n",
    "    lst += item\n",
    "count = 0\n",
    "res = (list(combinations(lst, c)))\n",
    "# print(res)\n",
    "for x,y in enumerate(res):\n",
    "#     print(x,y)\n",
    "    try:\n",
    "#         if y[x] == 'a':\n",
    "        if(any('a' in i for i in y)):\n",
    "            count += 1\n",
    "    except:\n",
    "        count = 0\n",
    "# print(count)\n",
    "# print(len(res))\n",
    "result = (count/len(res))\n",
    "print(round(result, 4))"
   ]
  },
  {
   "cell_type": "code",
   "execution_count": null,
   "metadata": {},
   "outputs": [],
   "source": []
  }
 ],
 "metadata": {
  "kernelspec": {
   "display_name": "Python 3",
   "language": "python",
   "name": "python3"
  },
  "language_info": {
   "codemirror_mode": {
    "name": "ipython",
    "version": 3
   },
   "file_extension": ".py",
   "mimetype": "text/x-python",
   "name": "python",
   "nbconvert_exporter": "python",
   "pygments_lexer": "ipython3",
   "version": "3.8.3rc1"
  }
 },
 "nbformat": 4,
 "nbformat_minor": 4
}
