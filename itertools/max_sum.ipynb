{
 "cells": [
  {
   "cell_type": "code",
   "execution_count": 39,
   "metadata": {},
   "outputs": [
    {
     "name": "stdin",
     "output_type": "stream",
     "text": [
      " 1 128\n",
      " 1 190627\n"
     ]
    },
    {
     "name": "stdout",
     "output_type": "stream",
     "text": [
      "[190627]\n",
      "[36338653129]\n",
      "36338653129\n",
      "73\n"
     ]
    }
   ],
   "source": [
    "a, M = list(map(int,input().split()))\n",
    "b = []\n",
    "c = []\n",
    "d = []\n",
    "\n",
    "for i in range(a):\n",
    "    b.append(list(map(int,input().split())))\n",
    "for x,y in enumerate(b):\n",
    "    c.append(max(b[x]))\n",
    "for num in c:\n",
    "    d.append(num**2)\n",
    "e = sum(d)\n",
    "result = e % M\n",
    "print(c)\n",
    "print(d)\n",
    "print(e)\n",
    "print(result)"
   ]
  },
  {
   "cell_type": "code",
   "execution_count": 41,
   "metadata": {},
   "outputs": [
    {
     "name": "stdin",
     "output_type": "stream",
     "text": [
      " 1 128\n",
      " 1 190627\n"
     ]
    },
    {
     "name": "stdout",
     "output_type": "stream",
     "text": [
      "73\n"
     ]
    }
   ],
   "source": [
    "from itertools import product\n",
    "\n",
    "K,M = map(int,input().split())\n",
    "N = (list(map(int, input().split()))[1:] for _ in range(K))\n",
    "results = map(lambda x: sum(i**2 for i in x)%M, product(*N))\n",
    "print(max(results))"
   ]
  },
  {
   "cell_type": "code",
   "execution_count": null,
   "metadata": {},
   "outputs": [],
   "source": []
  }
 ],
 "metadata": {
  "kernelspec": {
   "display_name": "Python 3",
   "language": "python",
   "name": "python3"
  },
  "language_info": {
   "codemirror_mode": {
    "name": "ipython",
    "version": 3
   },
   "file_extension": ".py",
   "mimetype": "text/x-python",
   "name": "python",
   "nbconvert_exporter": "python",
   "pygments_lexer": "ipython3",
   "version": "3.8.3rc1"
  }
 },
 "nbformat": 4,
 "nbformat_minor": 4
}
